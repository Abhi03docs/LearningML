{
 "cells": [
  {
   "cell_type": "markdown",
   "id": "c0d4fb30",
   "metadata": {},
   "source": [
    "# Python From Scratch\n",
    "\n",
    "Take reference from youtube video below and learn Python along with me..\n",
    "\n",
    "https://www.youtube.com/playlist?list=PLKnIA16_Rmvb1RYR-iTA_hzckhdONtSW4"
   ]
  },
  {
   "cell_type": "markdown",
   "id": "560ea4cf",
   "metadata": {},
   "source": [
    "# Built-in modules"
   ]
  },
  {
   "cell_type": "markdown",
   "id": "cddf6b22",
   "metadata": {},
   "source": [
    "# Modules\n",
    "Modules can be considered as libraries.\n",
    "\n",
    "Module is a file containing a set of functions that you can use in your program by simply calling the module.\n",
    "\n"
   ]
  },
  {
   "cell_type": "markdown",
   "id": "2116eecd",
   "metadata": {},
   "source": [
    "#Examples of python modules, \n",
    "* Math\n",
    "* Random\n",
    "* numpy\n",
    "* matplotlib\n",
    "* pandas\n",
    "* os \n",
    "* time"
   ]
  },
  {
   "cell_type": "code",
   "execution_count": 5,
   "id": "47223bb3",
   "metadata": {},
   "outputs": [
    {
     "name": "stdout",
     "output_type": "stream",
     "text": [
      "\n",
      "Please wait a moment while I gather a list of all available modules...\n",
      "\n"
     ]
    },
    {
     "name": "stderr",
     "output_type": "stream",
     "text": [
      "C:\\ProgramData\\Anaconda3\\lib\\site-packages\\IPython\\kernel\\__init__.py:12: ShimWarning: The `IPython.kernel` package has been deprecated since IPython 4.0.You should import from ipykernel or jupyter_client instead.\n",
      "  warn(\"The `IPython.kernel` package has been deprecated since IPython 4.0.\"\n",
      "WARNING: AstropyDeprecationWarning: The private astropy._erfa module has been made into its own package, pyerfa, which is a dependency of astropy and can be imported directly using \"import erfa\" [astropy._erfa]\n",
      "C:\\ProgramData\\Anaconda3\\lib\\pkgutil.py:92: MatplotlibDeprecationWarning: \n",
      "The matplotlib.compat module was deprecated in Matplotlib 3.3 and will be removed two minor releases later.\n",
      "  __import__(info.name)\n",
      "C:\\ProgramData\\Anaconda3\\lib\\site-packages\\nltk\\twitter\\__init__.py:21: UserWarning: The twython library has not been installed. Some functionality from the twitter package will not be available.\n",
      "  warnings.warn(\n",
      "C:\\ProgramData\\Anaconda3\\lib\\site-packages\\skimage\\viewer\\utils\\__init__.py:1: UserWarning: Recommended matplotlib backend is `Agg` for full skimage.viewer functionality.\n",
      "  from .core import *\n"
     ]
    },
    {
     "name": "stdout",
     "output_type": "stream",
     "text": [
      "Update LANGUAGE_CODES (inside config/base.py) if a new translation has been added to Spyder\n"
     ]
    },
    {
     "name": "stderr",
     "output_type": "stream",
     "text": [
      "C:\\ProgramData\\Anaconda3\\lib\\site-packages\\qtawesome\\iconic_font.py:313: UserWarning: You need to have a running QApplication to use QtAwesome!\n",
      "  warnings.warn(\"You need to have a running \"\n",
      "C:\\ProgramData\\Anaconda3\\lib\\pkgutil.py:107: VisibleDeprecationWarning: zmq.eventloop.minitornado is deprecated in pyzmq 14.0 and will be removed.\n",
      "    Install tornado itself to use zmq with the tornado IOLoop.\n",
      "    \n",
      "  yield from walk_packages(path, info.name+'.', onerror)\n"
     ]
    },
    {
     "name": "stdout",
     "output_type": "stream",
     "text": [
      "Cython              brain_re            mailbox             smtplib\n",
      "IPython             brain_responses     mailcap             sndhdr\n",
      "OpenSSL             brain_scipy_signal  markupsafe          sniffio\n",
      "PIL                 brain_six           marshal             snowballstemmer\n",
      "PyQt5               brain_sqlalchemy    math                socket\n",
      "__future__          brain_ssl           matplotlib          socketserver\n",
      "_abc                brain_subprocess    mccabe              socks\n",
      "_ast                brain_threading     menuinst            sockshandler\n",
      "_asyncio            brain_type          mimetypes           sortedcollections\n",
      "_bisect             brain_typing        mistune             sortedcontainers\n",
      "_black_version      brain_uuid          mkl                 soupsieve\n",
      "_blake2             brotli              mkl_fft             sphinx\n",
      "_bootlocale         bs4                 mkl_random          sphinxcontrib\n",
      "_bz2                builtins            mmap                spyder\n",
      "_cffi_backend       bz2                 mmapfile            spyder_kernels\n",
      "_codecs             cProfile            mmsystem            sqlalchemy\n",
      "_codecs_cn          calendar            mock                sqlite3\n",
      "_codecs_hk          certifi             modulefinder        sre_compile\n",
      "_codecs_iso2022     cffi                more_itertools      sre_constants\n",
      "_codecs_jp          cgi                 mpmath              sre_parse\n",
      "_codecs_kr          cgitb               msgpack             ssl\n",
      "_codecs_tw          chardet             msilib              sspi\n",
      "_collections        chunk               msvcrt              sspicon\n",
      "_collections_abc    click               multipledispatch    stat\n",
      "_compat_pickle      cloudpickle         multiprocessing     statistics\n",
      "_compression        clyent              mypy_extensions     statsmodels\n",
      "_contextvars        cmath               nacl                storemagic\n",
      "_csv                cmd                 navigator_updater   string\n",
      "_ctypes             code                nbclassic           stringprep\n",
      "_ctypes_test        codecs              nbclient            struct\n",
      "_datetime           codeop              nbconvert           subprocess\n",
      "_decimal            collections         nbformat            sunau\n",
      "_distutils_hack     colorama            nest_asyncio        symbol\n",
      "_dummy_thread       colorsys            netbios             sympy\n",
      "_elementtree        commctrl            netrc               sympyprinting\n",
      "_functools          compileall          networkx            symtable\n",
      "_hashlib            comtypes            nltk                sys\n",
      "_heapq              concurrent          nntplib             sysconfig\n",
      "_imp                conda               nose                tables\n",
      "_io                 conda_build         notebook            tabnanny\n",
      "_json               conda_content_trust nt                  tarfile\n",
      "_locale             conda_env           ntpath              tblib\n",
      "_lsprof             conda_package_handling ntsecuritycon       telnetlib\n",
      "_lzma               conda_token         nturl2path          tempfile\n",
      "_markupbase         conda_verify        numba               terminado\n",
      "_md5                configparser        numbers             test\n",
      "_msi                contextlib          numexpr             test_data\n",
      "_multibytecodec     contextlib2         numpy               test_pycosat\n",
      "_multiprocessing    contextvars         numpydoc            testpath\n",
      "_nsis               copy                odbc                tests\n",
      "_opcode             copyreg             olefile             textdistance\n",
      "_operator           crypt               opcode              textwrap\n",
      "_osx_support        cryptography        openpyxl            this\n",
      "_overlapped         csv                 operator            threading\n",
      "_pickle             ctypes              optparse            threadpoolctl\n",
      "_py_abc             curl                os                  three_merge\n",
      "_pydecimal          curses              packaging           tifffile\n",
      "_pyio               cwp                 panda               time\n",
      "_pyrsistent_version cycler              pandas              timeit\n",
      "_pytest             cython              pandocfilters       timer\n",
      "_queue              cythonmagic         paramiko            tkinter\n",
      "_random             cytoolz             parser              tlz\n",
      "_sha1               dask                parso               token\n",
      "_sha256             dataclasses         partd               tokenize\n",
      "_sha3               datetime            past                toml\n",
      "_sha512             dateutil            path                toolz\n",
      "_signal             dbi                 pathlib             tornado\n",
      "_sitebuiltins       dbm                 pathlib2            tqdm\n",
      "_socket             dde                 pathspec            trace\n",
      "_sqlite3            decimal             patsy               traceback\n",
      "_sre                decorator           pdb                 tracemalloc\n",
      "_ssl                defusedxml          pep8                traitlets\n",
      "_stat               diff_match_patch    perfmon             tty\n",
      "_statistics         difflib             pexpect             turtle\n",
      "_string             dis                 pickle              turtledemo\n",
      "_strptime           distributed         pickleshare         typed_ast\n",
      "_struct             distutils           pickletools         types\n",
      "_symtable           doctest             pip                 typing\n",
      "_system_path        docutils            pipes               typing_extensions\n",
      "_testbuffer         dummy_threading     pkg_resources       ujson\n",
      "_testcapi           email               pkginfo             unicodecsv\n",
      "_testconsole        encodings           pkgutil             unicodedata\n",
      "_testimportmultiple ensurepip           platform            unittest\n",
      "_testinternalcapi   entrypoints         plistlib            urllib\n",
      "_testmultiphase     enum                pluggy              urllib3\n",
      "_thread             erfa                ply                 uu\n",
      "_threading_local    errno               poplib              uuid\n",
      "_tkinter            et_xmlfile          posixpath           venv\n",
      "_tracemalloc        fastcache           pprint              warnings\n",
      "_warnings           faulthandler        profile             watchdog\n",
      "_weakref            filecmp             prometheus_client   wave\n",
      "_weakrefset         fileinput           prompt_toolkit      wcwidth\n",
      "_win32sysloader     filelock            pstats              weakref\n",
      "_winapi             flake8              psutil              webbrowser\n",
      "_winxptheme         flask               pty                 webencodings\n",
      "_xxsubinterpreters  fnmatch             ptyprocess          werkzeug\n",
      "_yaml               formatter           pvectorc            wheel\n",
      "abc                 fractions           py                  widgetsnbextension\n",
      "adodbapi            fsspec              py_compile          win2kras\n",
      "afxres              ftplib              pyclbr              win32api\n",
      "aifc                functools           pycodestyle         win32clipboard\n",
      "alabaster           future              pycosat             win32com\n",
      "anaconda_navigator  gc                  pycparser           win32con\n",
      "anaconda_project    genericpath         pycurl              win32console\n",
      "antigravity         getopt              pydoc               win32cred\n",
      "anyio               getpass             pydoc_data          win32crypt\n",
      "appdirs             gettext             pydocstyle          win32cryptcon\n",
      "argh                gevent              pyexpat             win32ctypes\n",
      "argon2              glob                pyflakes            win32event\n",
      "argparse            glob2               pygments            win32evtlog\n",
      "array               greenlet            pylab               win32evtlogutil\n",
      "asn1crypto          gzip                pylint              win32file\n",
      "ast                 h5py                pyls                win32gui\n",
      "astroid             hashlib             pyls_black          win32gui_struct\n",
      "astropy             heapdict            pyls_jsonrpc        win32help\n",
      "async_generator     heapq               pyls_spyder         win32inet\n",
      "asynchat            hmac                pyodbc              win32inetcon\n",
      "asyncio             html                pyparsing           win32job\n",
      "asyncore            html5lib            pyreadline          win32lz\n",
      "atexit              http                pyrsistent          win32net\n",
      "atomicwrites        idlelib             pytest              win32netcon\n",
      "attr                idna                pythoncom           win32pdh\n",
      "audioop             imagecodecs         pytube              win32pdhquery\n",
      "autopep8            imageio             pytz                win32pdhutil\n",
      "autoreload          imagesize           pywin               win32pipe\n",
      "babel               imaplib             pywin32_bootstrap   win32print\n",
      "backcall            imghdr              pywin32_testutil    win32process\n",
      "backports           imp                 pywintypes          win32profile\n",
      "base64              importlib           pywt                win32ras\n",
      "bcrypt              importlib_metadata  pyximport           win32rcparser\n",
      "bdb                 iniconfig           qdarkstyle          win32security\n",
      "binascii            inspect             qtawesome           win32service\n",
      "binhex              intervaltree        qtconsole           win32serviceutil\n",
      "binstar_client      io                  qtpy                win32timezone\n",
      "bisect              ipaddress           queue               win32trace\n",
      "bitarray            ipykernel           quopri              win32traceutil\n",
      "bkcharts            ipykernel_launcher  random              win32transaction\n",
      "black               ipython_genutils    rasutil             win32ts\n",
      "blackd              ipywidgets          re                  win32ui\n",
      "bleach              isapi               readline            win32uiole\n",
      "blib2to3            isort               regcheck            win32verstamp\n",
      "bokeh               isympy              regex               win32wnet\n",
      "boto                itertools           regutil             win_inet_pton\n",
      "bottleneck          itsdangerous        repo_cli            win_unicode_console\n",
      "brain_argparse      jdcal               reprlib             wincertstore\n",
      "brain_attrs         jedi                requests            winerror\n",
      "brain_boto3         jinja2              rlcompleter         winioctlcon\n",
      "brain_builtin_inference joblib              rmagic              winnt\n",
      "brain_collections   json                rope                winperf\n",
      "brain_crypt         json5               rtree               winpty\n",
      "brain_curses        jsonschema          ruamel_yaml         winreg\n",
      "brain_dataclasses   jupyter             run                 winsound\n",
      "brain_dateutil      jupyter_client      runpy               winxpgui\n",
      "brain_fstrings      jupyter_console     sched               winxptheme\n",
      "brain_functools     jupyter_core        scipy               wrapt\n",
      "brain_gi            jupyter_packaging   scripts             wsgiref\n",
      "brain_hashlib       jupyter_server      seaborn             xdrlib\n",
      "brain_http          jupyterlab          secrets             xlrd\n",
      "brain_hypothesis    jupyterlab_pygments select              xlsxwriter\n",
      "brain_io            jupyterlab_server   selectors           xlwings\n",
      "brain_mechanize     jupyterlab_widgets  send2trash          xlwt\n",
      "brain_multiprocessing keyring             servicemanager      xml\n",
      "brain_namedtuple_enum keyword             setuptools          xmlrpc\n",
      "brain_nose          kiwisolver          shelve              xmltodict\n",
      "brain_numpy_core_fromnumeric lazy_object_proxy   shlex               xxsubtype\n",
      "brain_numpy_core_function_base lib2to3             shutil              yaml\n",
      "brain_numpy_core_multiarray libarchive          signal              yapf\n",
      "brain_numpy_core_numeric libfuturize         simplegeneric       yapftests\n",
      "brain_numpy_core_numerictypes libpasteurize       singledispatch      zict\n",
      "brain_numpy_core_umath lief                sip                 zipapp\n",
      "brain_numpy_ndarray linecache           sipconfig           zipfile\n",
      "brain_numpy_random_mtrand llvmlite            sipdistutils        zipimport\n",
      "brain_numpy_utils   locale              site                zipp\n",
      "brain_pkg_resources locket              six                 zlib\n",
      "brain_pytest        logging             skimage             zmq\n",
      "brain_qt            lxml                sklearn             zope\n",
      "brain_random        lzma                smtpd               \n",
      "\n",
      "Enter any module name to get more help.  Or, type \"modules spam\" to search\n",
      "for modules whose name or summary contain the string \"spam\".\n",
      "\n"
     ]
    }
   ],
   "source": [
    "help('modules')"
   ]
  },
  {
   "cell_type": "code",
   "execution_count": 10,
   "id": "777a66df",
   "metadata": {},
   "outputs": [],
   "source": [
    "import math   #to import modules "
   ]
  },
  {
   "cell_type": "markdown",
   "id": "b148b8a7",
   "metadata": {},
   "source": [
    "after \"module.\" press tab to see all the available functions with that module"
   ]
  },
  {
   "cell_type": "code",
   "execution_count": 7,
   "id": "4fd7ce63",
   "metadata": {},
   "outputs": [
    {
     "data": {
      "text/plain": [
       "3.141592653589793"
      ]
     },
     "execution_count": 7,
     "metadata": {},
     "output_type": "execute_result"
    }
   ],
   "source": [
    "math.pi"
   ]
  },
  {
   "cell_type": "code",
   "execution_count": 14,
   "id": "fc5bda0b",
   "metadata": {},
   "outputs": [
    {
     "data": {
      "text/plain": [
       "2.718281828459045"
      ]
     },
     "execution_count": 14,
     "metadata": {},
     "output_type": "execute_result"
    }
   ],
   "source": [
    "math.e"
   ]
  },
  {
   "cell_type": "code",
   "execution_count": 12,
   "id": "99de3955",
   "metadata": {},
   "outputs": [
    {
     "data": {
      "text/plain": [
       "6"
      ]
     },
     "execution_count": 12,
     "metadata": {},
     "output_type": "execute_result"
    }
   ],
   "source": [
    "math.floor(6.9)"
   ]
  },
  {
   "cell_type": "code",
   "execution_count": 34,
   "id": "8dac2024",
   "metadata": {},
   "outputs": [
    {
     "data": {
      "text/plain": [
       "8.0"
      ]
     },
     "execution_count": 34,
     "metadata": {},
     "output_type": "execute_result"
    }
   ],
   "source": [
    "math.pow(2,3)"
   ]
  },
  {
   "cell_type": "code",
   "execution_count": 38,
   "id": "62e02c19",
   "metadata": {},
   "outputs": [],
   "source": [
    "import random as rd"
   ]
  },
  {
   "cell_type": "code",
   "execution_count": 39,
   "id": "c912dec0",
   "metadata": {},
   "outputs": [
    {
     "data": {
      "text/plain": [
       "47"
      ]
     },
     "execution_count": 39,
     "metadata": {},
     "output_type": "execute_result"
    }
   ],
   "source": [
    "rd.randint(1,100)"
   ]
  },
  {
   "cell_type": "code",
   "execution_count": 41,
   "id": "d2eece49",
   "metadata": {},
   "outputs": [],
   "source": [
    "a= [1,2,3,4,5,7,8]\n",
    "rd.shuffle(a)"
   ]
  },
  {
   "cell_type": "code",
   "execution_count": 42,
   "id": "de305f4b",
   "metadata": {},
   "outputs": [],
   "source": [
    "import time"
   ]
  },
  {
   "cell_type": "code",
   "execution_count": 51,
   "id": "21dfed4c",
   "metadata": {},
   "outputs": [
    {
     "data": {
      "text/plain": [
       "1645040832.4723043"
      ]
     },
     "execution_count": 51,
     "metadata": {},
     "output_type": "execute_result"
    }
   ],
   "source": [
    "time.time()"
   ]
  },
  {
   "cell_type": "code",
   "execution_count": 53,
   "id": "404ee109",
   "metadata": {},
   "outputs": [
    {
     "data": {
      "text/plain": [
       "'Thu Feb 17 01:17:59 2022'"
      ]
     },
     "execution_count": 53,
     "metadata": {},
     "output_type": "execute_result"
    }
   ],
   "source": [
    "time.ctime() #current time"
   ]
  },
  {
   "cell_type": "code",
   "execution_count": 54,
   "id": "8767d0b1",
   "metadata": {},
   "outputs": [
    {
     "name": "stdout",
     "output_type": "stream",
     "text": [
      "hello\n",
      "world\n"
     ]
    }
   ],
   "source": [
    "print(\"hello\")\n",
    "time.sleep(2)\n",
    "print(\"world\")"
   ]
  },
  {
   "cell_type": "code",
   "execution_count": 56,
   "id": "2b55622f",
   "metadata": {},
   "outputs": [],
   "source": [
    "import os"
   ]
  },
  {
   "cell_type": "code",
   "execution_count": 57,
   "id": "699d626d",
   "metadata": {},
   "outputs": [
    {
     "data": {
      "text/plain": [
       "'C:\\\\Users\\\\Abhishek PC'"
      ]
     },
     "execution_count": 57,
     "metadata": {},
     "output_type": "execute_result"
    }
   ],
   "source": [
    "os.getcwd()"
   ]
  },
  {
   "cell_type": "code",
   "execution_count": 58,
   "id": "60bdbc63",
   "metadata": {},
   "outputs": [
    {
     "data": {
      "text/plain": [
       "['.anaconda',\n",
       " '.astropy',\n",
       " '.conda',\n",
       " '.condarc',\n",
       " '.continuum',\n",
       " '.gitconfig',\n",
       " '.idlerc',\n",
       " '.ipynb_checkpoints',\n",
       " '.ipython',\n",
       " '.jupyter',\n",
       " '.matplotlib',\n",
       " '.nbi',\n",
       " '.spyder-py3',\n",
       " '.vscode',\n",
       " '3D Objects',\n",
       " 'AppData',\n",
       " 'Application Data',\n",
       " 'Contacts',\n",
       " 'Cookies',\n",
       " 'Data cleaning by 3M.ipynb',\n",
       " 'Data Cleaning by Mean Median Mode.ipynb',\n",
       " 'Desktop',\n",
       " 'Documents',\n",
       " 'Downloads',\n",
       " 'ex.jsx',\n",
       " 'Favorites',\n",
       " 'Forest.ipynb',\n",
       " 'IBM Prac.ipynb',\n",
       " 'Jupyter Project (Group-2) .ipynb',\n",
       " 'Links',\n",
       " 'Local Settings',\n",
       " 'Matplotlib.ipynb',\n",
       " 'MLPython1.ipynb',\n",
       " 'MLPython4.ipynb',\n",
       " 'Music',\n",
       " 'My Documents',\n",
       " 'NetHood',\n",
       " 'newreactjs.jsx',\n",
       " 'NTUSER.DAT',\n",
       " 'ntuser.dat.LOG1',\n",
       " 'ntuser.dat.LOG2',\n",
       " 'NTUSER.DAT{41af1932-56c3-11eb-b855-c9f8ce1d6576}.TM.blf',\n",
       " 'NTUSER.DAT{41af1932-56c3-11eb-b855-c9f8ce1d6576}.TMContainer00000000000000000001.regtrans-ms',\n",
       " 'NTUSER.DAT{41af1932-56c3-11eb-b855-c9f8ce1d6576}.TMContainer00000000000000000002.regtrans-ms',\n",
       " 'ntuser.ini',\n",
       " 'NumPy practise.ipynb',\n",
       " 'OneDrive',\n",
       " 'Practice Project.ipynb',\n",
       " 'PrintHood',\n",
       " 'PycharmProjects',\n",
       " 'Python from scratch.ipynb',\n",
       " 'ques 15-19.ipynb',\n",
       " 'Recent',\n",
       " 'Saved Games',\n",
       " 'Searches',\n",
       " 'SendTo',\n",
       " 'Start Menu',\n",
       " 'Templates',\n",
       " 'Untitled.ipynb',\n",
       " 'Untitled1.ipynb',\n",
       " 'Untitled2.ipynb',\n",
       " 'Untitled3.ipynb',\n",
       " 'Videos',\n",
       " 'YoutubeDownloader.ipynb']"
      ]
     },
     "execution_count": 58,
     "metadata": {},
     "output_type": "execute_result"
    }
   ],
   "source": [
    "os.listdir()"
   ]
  }
 ],
 "metadata": {
  "kernelspec": {
   "display_name": "Python 3",
   "language": "python",
   "name": "python3"
  },
  "language_info": {
   "codemirror_mode": {
    "name": "ipython",
    "version": 3
   },
   "file_extension": ".py",
   "mimetype": "text/x-python",
   "name": "python",
   "nbconvert_exporter": "python",
   "pygments_lexer": "ipython3",
   "version": "3.8.8"
  }
 },
 "nbformat": 4,
 "nbformat_minor": 5
}
