{
 "cells": [
  {
   "cell_type": "markdown",
   "id": "c0d4fb30",
   "metadata": {},
   "source": [
    "# Python From Scratch\n",
    "\n",
    "Take reference from youtube video below and learn Python along with me..\n",
    "\n",
    "https://www.youtube.com/playlist?list=PLKnIA16_Rmvb1RYR-iTA_hzckhdONtSW4"
   ]
  },
  {
   "cell_type": "markdown",
   "id": "c2c69d05",
   "metadata": {},
   "source": [
    "# Functions in python\n",
    "### A function is a block of organized, reusable code that is used to perform a single, related action."
   ]
  },
  {
   "cell_type": "markdown",
   "id": "fa65eaaf",
   "metadata": {},
   "source": [
    "## Built-in function"
   ]
  },
  {
   "cell_type": "markdown",
   "id": "9cdcf3c3",
   "metadata": {},
   "source": [
    "## 1.Print"
   ]
  },
  {
   "cell_type": "code",
   "execution_count": 2,
   "id": "5f1af01d",
   "metadata": {},
   "outputs": [
    {
     "name": "stdout",
     "output_type": "stream",
     "text": [
      "hello world\n"
     ]
    }
   ],
   "source": [
    "print(\"hello world\")"
   ]
  },
  {
   "cell_type": "markdown",
   "id": "e40bf457",
   "metadata": {},
   "source": [
    "## 2.input "
   ]
  },
  {
   "cell_type": "code",
   "execution_count": 4,
   "id": "7b393537",
   "metadata": {},
   "outputs": [
    {
     "name": "stdout",
     "output_type": "stream",
     "text": [
      "Enter your nameabhishek\n"
     ]
    },
    {
     "data": {
      "text/plain": [
       "'abhishek'"
      ]
     },
     "execution_count": 4,
     "metadata": {},
     "output_type": "execute_result"
    }
   ],
   "source": [
    "input(\"Enter your name\")"
   ]
  },
  {
   "cell_type": "markdown",
   "id": "a37311cc",
   "metadata": {},
   "source": [
    "## 3.type"
   ]
  },
  {
   "cell_type": "code",
   "execution_count": 5,
   "id": "51eb5d5b",
   "metadata": {},
   "outputs": [
    {
     "data": {
      "text/plain": [
       "bool"
      ]
     },
     "execution_count": 5,
     "metadata": {},
     "output_type": "execute_result"
    }
   ],
   "source": [
    "a= True\n",
    "type(a)"
   ]
  },
  {
   "cell_type": "code",
   "execution_count": 6,
   "id": "ab06083c",
   "metadata": {},
   "outputs": [
    {
     "data": {
      "text/plain": [
       "float"
      ]
     },
     "execution_count": 6,
     "metadata": {},
     "output_type": "execute_result"
    }
   ],
   "source": [
    "a = 5.33\n",
    "type(a)"
   ]
  },
  {
   "cell_type": "markdown",
   "id": "42c34414",
   "metadata": {},
   "source": [
    "## 4. Type conversion functions"
   ]
  },
  {
   "cell_type": "code",
   "execution_count": 8,
   "id": "26c5cda1",
   "metadata": {},
   "outputs": [
    {
     "data": {
      "text/plain": [
       "5"
      ]
     },
     "execution_count": 8,
     "metadata": {},
     "output_type": "execute_result"
    }
   ],
   "source": [
    "int(5.33)\n",
    "#float\n",
    "#str\n",
    "#list\n",
    "#tuple"
   ]
  },
  {
   "cell_type": "markdown",
   "id": "8673fe6d",
   "metadata": {},
   "source": [
    "## 5.abs (absolute/modulus)"
   ]
  },
  {
   "cell_type": "code",
   "execution_count": 10,
   "id": "3ca93ee2",
   "metadata": {},
   "outputs": [
    {
     "data": {
      "text/plain": [
       "5"
      ]
     },
     "execution_count": 10,
     "metadata": {},
     "output_type": "execute_result"
    }
   ],
   "source": [
    "abs(-5)"
   ]
  },
  {
   "cell_type": "markdown",
   "id": "3875ab71",
   "metadata": {},
   "source": [
    "## 6.pow (Power)"
   ]
  },
  {
   "cell_type": "code",
   "execution_count": 12,
   "id": "258d128b",
   "metadata": {},
   "outputs": [
    {
     "data": {
      "text/plain": [
       "32"
      ]
     },
     "execution_count": 12,
     "metadata": {},
     "output_type": "execute_result"
    }
   ],
   "source": [
    "pow(2,5)  #2 to the power 5"
   ]
  },
  {
   "cell_type": "markdown",
   "id": "b9cb2352",
   "metadata": {},
   "source": [
    "## 7.Min/max"
   ]
  },
  {
   "cell_type": "code",
   "execution_count": 13,
   "id": "8932ba3f",
   "metadata": {},
   "outputs": [
    {
     "data": {
      "text/plain": [
       "1"
      ]
     },
     "execution_count": 13,
     "metadata": {},
     "output_type": "execute_result"
    }
   ],
   "source": [
    "min([1,2,4,6])"
   ]
  },
  {
   "cell_type": "code",
   "execution_count": 14,
   "id": "05ff946b",
   "metadata": {},
   "outputs": [
    {
     "data": {
      "text/plain": [
       "8"
      ]
     },
     "execution_count": 14,
     "metadata": {},
     "output_type": "execute_result"
    }
   ],
   "source": [
    "max({2,4,6,8})"
   ]
  },
  {
   "cell_type": "code",
   "execution_count": 16,
   "id": "9a8265d5",
   "metadata": {},
   "outputs": [
    {
     "data": {
      "text/plain": [
       "'s'"
      ]
     },
     "execution_count": 16,
     "metadata": {},
     "output_type": "execute_result"
    }
   ],
   "source": [
    "max(\"Abhishek\")\n",
    "#by ascii value"
   ]
  },
  {
   "cell_type": "markdown",
   "id": "1faac227",
   "metadata": {},
   "source": [
    "## 8.round"
   ]
  },
  {
   "cell_type": "code",
   "execution_count": 18,
   "id": "abc9b07a",
   "metadata": {},
   "outputs": [
    {
     "data": {
      "text/plain": [
       "3.143"
      ]
     },
     "execution_count": 18,
     "metadata": {},
     "output_type": "execute_result"
    }
   ],
   "source": [
    "c = 22/7\n",
    "round(c,3)"
   ]
  },
  {
   "cell_type": "markdown",
   "id": "95f1b813",
   "metadata": {},
   "source": [
    "## 9.Divmod"
   ]
  },
  {
   "cell_type": "code",
   "execution_count": 20,
   "id": "b35dd9cc",
   "metadata": {},
   "outputs": [
    {
     "data": {
      "text/plain": [
       "(2, 1)"
      ]
     },
     "execution_count": 20,
     "metadata": {},
     "output_type": "execute_result"
    }
   ],
   "source": [
    "divmod(5,2)\n",
    "#we'll get the result of division and remainder"
   ]
  },
  {
   "cell_type": "markdown",
   "id": "4204f119",
   "metadata": {},
   "source": [
    "## 10.Bin/Oct/Hect"
   ]
  },
  {
   "cell_type": "code",
   "execution_count": 21,
   "id": "b68028c7",
   "metadata": {},
   "outputs": [
    {
     "data": {
      "text/plain": [
       "'0x5'"
      ]
     },
     "execution_count": 21,
     "metadata": {},
     "output_type": "execute_result"
    }
   ],
   "source": [
    "hex(5)"
   ]
  },
  {
   "cell_type": "code",
   "execution_count": 26,
   "id": "a6a16b3f",
   "metadata": {},
   "outputs": [
    {
     "data": {
      "text/plain": [
       "'0b100'"
      ]
     },
     "execution_count": 26,
     "metadata": {},
     "output_type": "execute_result"
    }
   ],
   "source": [
    "bin(4)"
   ]
  },
  {
   "cell_type": "markdown",
   "id": "460e0042",
   "metadata": {},
   "source": [
    "## 11.ID"
   ]
  },
  {
   "cell_type": "code",
   "execution_count": 27,
   "id": "b9a908f5",
   "metadata": {},
   "outputs": [
    {
     "data": {
      "text/plain": [
       "140721623672752"
      ]
     },
     "execution_count": 27,
     "metadata": {},
     "output_type": "execute_result"
    }
   ],
   "source": [
    "a = 5\n",
    "id(a)"
   ]
  },
  {
   "cell_type": "markdown",
   "id": "c7724947",
   "metadata": {},
   "source": [
    "## 12. Ord\n",
    "To get ASCII number"
   ]
  },
  {
   "cell_type": "code",
   "execution_count": 29,
   "id": "ca97917a",
   "metadata": {},
   "outputs": [
    {
     "data": {
      "text/plain": [
       "67"
      ]
     },
     "execution_count": 29,
     "metadata": {},
     "output_type": "execute_result"
    }
   ],
   "source": [
    "ord(\"C\")"
   ]
  },
  {
   "cell_type": "markdown",
   "id": "de2e519a",
   "metadata": {},
   "source": [
    "## 13.Len"
   ]
  },
  {
   "cell_type": "code",
   "execution_count": 31,
   "id": "cdc5f7d3",
   "metadata": {},
   "outputs": [
    {
     "data": {
      "text/plain": [
       "10"
      ]
     },
     "execution_count": 31,
     "metadata": {},
     "output_type": "execute_result"
    }
   ],
   "source": [
    "len([1,2,3,4,2,5,6,2,4,1])"
   ]
  },
  {
   "cell_type": "markdown",
   "id": "1f934c37",
   "metadata": {},
   "source": [
    "## 14.Sum"
   ]
  },
  {
   "cell_type": "code",
   "execution_count": 32,
   "id": "cff414bd",
   "metadata": {},
   "outputs": [
    {
     "data": {
      "text/plain": [
       "20"
      ]
     },
     "execution_count": 32,
     "metadata": {},
     "output_type": "execute_result"
    }
   ],
   "source": [
    "sum([1,4,5,6,3,1])"
   ]
  },
  {
   "cell_type": "markdown",
   "id": "31153dfb",
   "metadata": {},
   "source": [
    "## 15.Help\n",
    "\n",
    "To get information about any function"
   ]
  },
  {
   "cell_type": "code",
   "execution_count": 34,
   "id": "15cfbd02",
   "metadata": {},
   "outputs": [
    {
     "name": "stdout",
     "output_type": "stream",
     "text": [
      "Help on built-in function print in module builtins:\n",
      "\n",
      "print(...)\n",
      "    print(value, ..., sep=' ', end='\\n', file=sys.stdout, flush=False)\n",
      "    \n",
      "    Prints the values to a stream, or to sys.stdout by default.\n",
      "    Optional keyword arguments:\n",
      "    file:  a file-like object (stream); defaults to the current sys.stdout.\n",
      "    sep:   string inserted between values, default a space.\n",
      "    end:   string appended after the last value, default a newline.\n",
      "    flush: whether to forcibly flush the stream.\n",
      "\n"
     ]
    }
   ],
   "source": [
    "help(\"print\")"
   ]
  },
  {
   "cell_type": "markdown",
   "id": "4da31d6a",
   "metadata": {},
   "source": [
    "---------------------"
   ]
  },
  {
   "cell_type": "markdown",
   "id": "a1b06d9e",
   "metadata": {},
   "source": [
    "# Break-Continue-Pass statements"
   ]
  },
  {
   "cell_type": "markdown",
   "id": "88159327",
   "metadata": {},
   "source": [
    "### Break is used to terminate loop at a specific condition\n",
    "Used in linear searching"
   ]
  },
  {
   "cell_type": "code",
   "execution_count": 7,
   "id": "68697a20",
   "metadata": {},
   "outputs": [
    {
     "name": "stdout",
     "output_type": "stream",
     "text": [
      "1\n",
      "2\n",
      "3\n",
      "4\n"
     ]
    }
   ],
   "source": [
    "for i in range(1,11):\n",
    "    if i== 5:\n",
    "        break\n",
    "    print(i)\n",
    "        "
   ]
  },
  {
   "cell_type": "markdown",
   "id": "78a3556e",
   "metadata": {},
   "source": [
    "## Continue\n",
    "If the condition meets, It will skip the code after it."
   ]
  },
  {
   "cell_type": "code",
   "execution_count": 8,
   "id": "f9c9ff57",
   "metadata": {},
   "outputs": [
    {
     "name": "stdout",
     "output_type": "stream",
     "text": [
      "1\n",
      "2\n",
      "3\n",
      "4\n",
      "6\n",
      "7\n",
      "8\n",
      "9\n",
      "10\n"
     ]
    }
   ],
   "source": [
    "for i in range(1,11):\n",
    "    if i==5:\n",
    "        continue\n",
    "    print(i)\n",
    "        "
   ]
  },
  {
   "cell_type": "code",
   "execution_count": 10,
   "id": "cf391c19",
   "metadata": {},
   "outputs": [
    {
     "name": "stdout",
     "output_type": "stream",
     "text": [
      "1\n",
      "Hello\n",
      "2\n",
      "Hello\n",
      "3\n",
      "Hello\n",
      "4\n",
      "Hello\n",
      "5\n",
      "Hello\n",
      "6 is skipped here\n",
      "7\n",
      "Hello\n",
      "8\n",
      "Hello\n",
      "9\n",
      "Hello\n",
      "10\n",
      "Hello\n"
     ]
    }
   ],
   "source": [
    "for i in range(1,11):\n",
    "    if i == 6:\n",
    "        print(\"6 is skipped here\")\n",
    "        continue\n",
    "    print(i)\n",
    "    print(\"Hello\")"
   ]
  },
  {
   "cell_type": "markdown",
   "id": "13732c29",
   "metadata": {},
   "source": [
    "## Pass\n",
    "If you're unsure about the code you want to write you can use Pass statement there.\n",
    "\n",
    "It won't show any error"
   ]
  },
  {
   "cell_type": "code",
   "execution_count": 12,
   "id": "0ae1ac47",
   "metadata": {},
   "outputs": [],
   "source": [
    "for i in range(1,11):\n",
    "    pass"
   ]
  }
 ],
 "metadata": {
  "kernelspec": {
   "display_name": "Python 3",
   "language": "python",
   "name": "python3"
  },
  "language_info": {
   "codemirror_mode": {
    "name": "ipython",
    "version": 3
   },
   "file_extension": ".py",
   "mimetype": "text/x-python",
   "name": "python",
   "nbconvert_exporter": "python",
   "pygments_lexer": "ipython3",
   "version": "3.8.8"
  }
 },
 "nbformat": 4,
 "nbformat_minor": 5
}
