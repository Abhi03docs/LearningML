{
 "cells": [
  {
   "cell_type": "markdown",
   "id": "0fe4e274",
   "metadata": {},
   "source": [
    "# Python From Scratch-3"
   ]
  },
  {
   "cell_type": "markdown",
   "id": "a575364c",
   "metadata": {},
   "source": [
    "Take reference from youtube video below and learn Python along with me..\n",
    "\n",
    "https://www.youtube.com/playlist?list=PLKnIA16_Rmvb1RYR-iTA_hzckhdONtSW4"
   ]
  },
  {
   "cell_type": "markdown",
   "id": "0f3eeb87",
   "metadata": {},
   "source": [
    "# Operators\n",
    "Used to perform operations on variables anf values. Python have following operators:\n",
    "\n",
    "- Arithmetic\n",
    "- Comparison\n",
    "- Logical\n",
    "- Bitwise\n",
    "- Assignment\n",
    "- Identity\n",
    "- Membership"
   ]
  },
  {
   "cell_type": "markdown",
   "id": "89817447",
   "metadata": {},
   "source": [
    "## Arithmetic operations\n",
    "Used for mathematic functions"
   ]
  },
  {
   "cell_type": "code",
   "execution_count": 4,
   "id": "1cc2a584",
   "metadata": {},
   "outputs": [
    {
     "name": "stdout",
     "output_type": "stream",
     "text": [
      "8\n",
      "-2\n"
     ]
    }
   ],
   "source": [
    "x= 3\n",
    "y= 5\n",
    "print(x+y)\n",
    "print(x-y)"
   ]
  },
  {
   "cell_type": "code",
   "execution_count": 8,
   "id": "a50b458f",
   "metadata": {},
   "outputs": [
    {
     "name": "stdout",
     "output_type": "stream",
     "text": [
      "15\n",
      "0.6\n",
      "0\n"
     ]
    }
   ],
   "source": [
    "print(x*y)\n",
    "print(x/y)\n",
    "print(x//y)   #rounding off to integer"
   ]
  },
  {
   "cell_type": "code",
   "execution_count": 9,
   "id": "bbd197f8",
   "metadata": {},
   "outputs": [
    {
     "name": "stdout",
     "output_type": "stream",
     "text": [
      "3\n"
     ]
    }
   ],
   "source": [
    "print(x%y)   #modulus"
   ]
  },
  {
   "cell_type": "code",
   "execution_count": 10,
   "id": "6f6be164",
   "metadata": {},
   "outputs": [
    {
     "name": "stdout",
     "output_type": "stream",
     "text": [
      "243\n"
     ]
    }
   ],
   "source": [
    "print(x**y)  #To the power of"
   ]
  },
  {
   "cell_type": "markdown",
   "id": "7f39dc2c",
   "metadata": {},
   "source": [
    "## Comparison operator\n",
    "Compares between 2 values"
   ]
  },
  {
   "cell_type": "code",
   "execution_count": 11,
   "id": "1954bb54",
   "metadata": {},
   "outputs": [
    {
     "name": "stdout",
     "output_type": "stream",
     "text": [
      "False\n"
     ]
    }
   ],
   "source": [
    "print(x>y)"
   ]
  },
  {
   "cell_type": "code",
   "execution_count": 12,
   "id": "ad43e606",
   "metadata": {},
   "outputs": [
    {
     "name": "stdout",
     "output_type": "stream",
     "text": [
      "True\n"
     ]
    }
   ],
   "source": [
    "print(x<y)"
   ]
  },
  {
   "cell_type": "code",
   "execution_count": 13,
   "id": "ed814ea7",
   "metadata": {},
   "outputs": [
    {
     "name": "stdout",
     "output_type": "stream",
     "text": [
      "False\n"
     ]
    }
   ],
   "source": [
    "print(x>=y)"
   ]
  },
  {
   "cell_type": "code",
   "execution_count": 14,
   "id": "76219cf2",
   "metadata": {},
   "outputs": [
    {
     "name": "stdout",
     "output_type": "stream",
     "text": [
      "False\n"
     ]
    }
   ],
   "source": [
    "print(x==y)"
   ]
  },
  {
   "cell_type": "code",
   "execution_count": 15,
   "id": "765ea1fc",
   "metadata": {},
   "outputs": [
    {
     "name": "stdout",
     "output_type": "stream",
     "text": [
      "True\n"
     ]
    }
   ],
   "source": [
    "print(x!=y)"
   ]
  },
  {
   "cell_type": "markdown",
   "id": "a8473af6",
   "metadata": {},
   "source": [
    "# Logical operators\n",
    "Very useful in logic building"
   ]
  },
  {
   "cell_type": "code",
   "execution_count": 16,
   "id": "a0f14e6e",
   "metadata": {},
   "outputs": [],
   "source": [
    "x = True\n",
    "y = False"
   ]
  },
  {
   "cell_type": "code",
   "execution_count": 18,
   "id": "45d9d2be",
   "metadata": {},
   "outputs": [
    {
     "name": "stdout",
     "output_type": "stream",
     "text": [
      "True\n"
     ]
    }
   ],
   "source": [
    "print(x or y) #give true even if one value is true"
   ]
  },
  {
   "cell_type": "code",
   "execution_count": 19,
   "id": "ff41f549",
   "metadata": {},
   "outputs": [
    {
     "name": "stdout",
     "output_type": "stream",
     "text": [
      "False\n"
     ]
    }
   ],
   "source": [
    "print(x and y) #both should be true"
   ]
  },
  {
   "cell_type": "code",
   "execution_count": 20,
   "id": "6661797a",
   "metadata": {},
   "outputs": [
    {
     "name": "stdout",
     "output_type": "stream",
     "text": [
      "False\n",
      "True\n"
     ]
    }
   ],
   "source": [
    "print(not x)\n",
    "print(not y)"
   ]
  },
  {
   "cell_type": "markdown",
   "id": "3dc0608d",
   "metadata": {},
   "source": [
    "# Bitwise\n",
    "Used with binary numbers"
   ]
  },
  {
   "cell_type": "code",
   "execution_count": 21,
   "id": "ccf3c95f",
   "metadata": {},
   "outputs": [],
   "source": [
    "x = 3\n",
    "y = 2"
   ]
  },
  {
   "cell_type": "code",
   "execution_count": 24,
   "id": "e5c40be1",
   "metadata": {},
   "outputs": [
    {
     "name": "stdout",
     "output_type": "stream",
     "text": [
      "2\n"
     ]
    }
   ],
   "source": [
    "print(x & y)"
   ]
  },
  {
   "cell_type": "markdown",
   "id": "24847473",
   "metadata": {},
   "source": [
    "#2 as answer because numbers will first get converted into binary and then and operation will be applied"
   ]
  },
  {
   "cell_type": "code",
   "execution_count": 26,
   "id": "e5eb5c5b",
   "metadata": {},
   "outputs": [
    {
     "name": "stdout",
     "output_type": "stream",
     "text": [
      "3\n"
     ]
    }
   ],
   "source": [
    "print(x|y)"
   ]
  },
  {
   "cell_type": "markdown",
   "id": "45bf4d3b",
   "metadata": {},
   "source": [
    "#3 as answer because numbers will first get converted into binary and then or operation will be applied"
   ]
  },
  {
   "cell_type": "code",
   "execution_count": 28,
   "id": "537e8706",
   "metadata": {},
   "outputs": [
    {
     "name": "stdout",
     "output_type": "stream",
     "text": [
      "0\n",
      "16\n",
      "-3\n"
     ]
    }
   ],
   "source": [
    "print(x >> 2) #right shift\n",
    "print(y<< 3)  #left shift\n",
    "print(-x)  #One's complement"
   ]
  },
  {
   "cell_type": "markdown",
   "id": "e12d146e",
   "metadata": {},
   "source": [
    "# Assignment operator\n",
    "Used to assign values"
   ]
  },
  {
   "cell_type": "code",
   "execution_count": 56,
   "id": "f4acd87a",
   "metadata": {},
   "outputs": [
    {
     "name": "stdout",
     "output_type": "stream",
     "text": [
      "3\n"
     ]
    }
   ],
   "source": [
    "a = 3  # here = is assignment operator(most commonly used)\n",
    "print(a)"
   ]
  },
  {
   "cell_type": "code",
   "execution_count": 57,
   "id": "d8ebc908",
   "metadata": {},
   "outputs": [
    {
     "name": "stdout",
     "output_type": "stream",
     "text": [
      "7\n"
     ]
    }
   ],
   "source": [
    "a+=4\n",
    "#a = a+4\n",
    "print(a)"
   ]
  },
  {
   "cell_type": "code",
   "execution_count": 58,
   "id": "e3cece38",
   "metadata": {},
   "outputs": [
    {
     "name": "stdout",
     "output_type": "stream",
     "text": [
      "4\n"
     ]
    }
   ],
   "source": [
    "a-=3\n",
    "print(a)"
   ]
  },
  {
   "cell_type": "code",
   "execution_count": 59,
   "id": "f750e0b3",
   "metadata": {},
   "outputs": [
    {
     "name": "stdout",
     "output_type": "stream",
     "text": [
      "28\n"
     ]
    }
   ],
   "source": [
    "a*=7\n",
    "print(a)"
   ]
  },
  {
   "cell_type": "code",
   "execution_count": 60,
   "id": "c6bfba02",
   "metadata": {},
   "outputs": [
    {
     "name": "stdout",
     "output_type": "stream",
     "text": [
      "0.5\n"
     ]
    }
   ],
   "source": [
    "a/=56\n",
    "print(a)"
   ]
  },
  {
   "cell_type": "markdown",
   "id": "6f8cc89a",
   "metadata": {},
   "source": [
    "#Note- sytax like\n",
    "++a\n",
    "or a++\n",
    "is not there in python"
   ]
  },
  {
   "cell_type": "markdown",
   "id": "f62a7b76",
   "metadata": {},
   "source": [
    "## Identity operator\n",
    "If two values are at same memory location\n",
    "\n",
    "\"is\" keyword is used "
   ]
  },
  {
   "cell_type": "code",
   "execution_count": 66,
   "id": "4e633ef1",
   "metadata": {},
   "outputs": [
    {
     "name": "stdout",
     "output_type": "stream",
     "text": [
      "True\n"
     ]
    }
   ],
   "source": [
    "a=3\n",
    "b=3\n",
    "print(a is b)"
   ]
  },
  {
   "cell_type": "code",
   "execution_count": 85,
   "id": "44027826",
   "metadata": {},
   "outputs": [
    {
     "name": "stdout",
     "output_type": "stream",
     "text": [
      "False\n"
     ]
    }
   ],
   "source": [
    "a=3\n",
    "b=3\n",
    "print(a is not b)"
   ]
  },
  {
   "cell_type": "code",
   "execution_count": 67,
   "id": "b62186fe",
   "metadata": {},
   "outputs": [
    {
     "name": "stdout",
     "output_type": "stream",
     "text": [
      "True\n"
     ]
    }
   ],
   "source": [
    "c = 'hello'\n",
    "d = 'hello'\n",
    "print(c is d)"
   ]
  },
  {
   "cell_type": "code",
   "execution_count": 68,
   "id": "107f2d20",
   "metadata": {},
   "outputs": [],
   "source": [
    "#but same data doesn't everytime means same location,like,"
   ]
  },
  {
   "cell_type": "code",
   "execution_count": 69,
   "id": "b0c81f80",
   "metadata": {},
   "outputs": [
    {
     "name": "stdout",
     "output_type": "stream",
     "text": [
      "False\n"
     ]
    }
   ],
   "source": [
    "a= [1,2,3]\n",
    "b= [1,2,3]\n",
    "print(a is b)"
   ]
  },
  {
   "cell_type": "code",
   "execution_count": 70,
   "id": "df11b5d0",
   "metadata": {},
   "outputs": [
    {
     "name": "stdout",
     "output_type": "stream",
     "text": [
      "False\n"
     ]
    }
   ],
   "source": [
    "a = 'hi-abhi'\n",
    "b = 'hi-abhi'\n",
    "print(a is b)"
   ]
  },
  {
   "cell_type": "markdown",
   "id": "0f25096a",
   "metadata": {},
   "source": [
    "## Membership operator\n",
    "Tells if one thing is inside another or not\n",
    "\n",
    "Very useful and unique python operator"
   ]
  },
  {
   "cell_type": "code",
   "execution_count": 78,
   "id": "920e55ee",
   "metadata": {},
   "outputs": [
    {
     "name": "stdout",
     "output_type": "stream",
     "text": [
      "True\n"
     ]
    }
   ],
   "source": [
    "a = 'Delhi'\n",
    "print(\"D\"in a)"
   ]
  },
  {
   "cell_type": "code",
   "execution_count": 80,
   "id": "cbfb4708",
   "metadata": {},
   "outputs": [
    {
     "name": "stdout",
     "output_type": "stream",
     "text": [
      "False\n"
     ]
    }
   ],
   "source": [
    "a = 'Delhi'\n",
    "print(\"D\" not in a)"
   ]
  },
  {
   "cell_type": "code",
   "execution_count": 79,
   "id": "af26245e",
   "metadata": {},
   "outputs": [
    {
     "name": "stdout",
     "output_type": "stream",
     "text": [
      "False\n"
     ]
    }
   ],
   "source": [
    "a = 'Delhi'\n",
    "print(\"D\" and \"a\" in a)"
   ]
  },
  {
   "cell_type": "code",
   "execution_count": 82,
   "id": "f0e8865a",
   "metadata": {},
   "outputs": [
    {
     "name": "stdout",
     "output_type": "stream",
     "text": [
      "False\n"
     ]
    }
   ],
   "source": [
    "x = [1,2,3]\n",
    "print(4 in x)"
   ]
  },
  {
   "cell_type": "code",
   "execution_count": 83,
   "id": "7b1313a9",
   "metadata": {},
   "outputs": [
    {
     "name": "stdout",
     "output_type": "stream",
     "text": [
      "True\n"
     ]
    }
   ],
   "source": [
    "x = [1,2,3]\n",
    "print(4 not in x)"
   ]
  },
  {
   "cell_type": "code",
   "execution_count": 84,
   "id": "4a31d7d0",
   "metadata": {},
   "outputs": [
    {
     "name": "stdout",
     "output_type": "stream",
     "text": [
      "True\n"
     ]
    }
   ],
   "source": [
    "x = [1,2,3]\n",
    "print(2 in x)"
   ]
  },
  {
   "cell_type": "code",
   "execution_count": 63,
   "id": "0db7c8c2",
   "metadata": {},
   "outputs": [],
   "source": [
    "#Keywords\n",
    "#Words reserved by a program as it have a special meaning.\n",
    "#note - Python is a case sensitive language"
   ]
  },
  {
   "cell_type": "code",
   "execution_count": 64,
   "id": "f2e40d93",
   "metadata": {},
   "outputs": [
    {
     "name": "stdout",
     "output_type": "stream",
     "text": [
      "['False', 'None', 'True', 'and', 'as', 'assert', 'async', 'await', 'break', 'class', 'continue', 'def', 'del', 'elif', 'else', 'except', 'finally', 'for', 'from', 'global', 'if', 'import', 'in', 'is', 'lambda', 'nonlocal', 'not', 'or', 'pass', 'raise', 'return', 'try', 'while', 'with', 'yield']\n"
     ]
    }
   ],
   "source": [
    "import keyword\n",
    "print(keyword.kwlist)"
   ]
  },
  {
   "cell_type": "code",
   "execution_count": 65,
   "id": "1ec12b2d",
   "metadata": {},
   "outputs": [],
   "source": [
    "#we can't use keywords as variables"
   ]
  },
  {
   "cell_type": "code",
   "execution_count": 66,
   "id": "09b513c0",
   "metadata": {},
   "outputs": [],
   "source": [
    "#Identifiers\n",
    "#Name used to identify a variable,function,class,module or other obj."
   ]
  },
  {
   "cell_type": "code",
   "execution_count": 1,
   "id": "38a8d647",
   "metadata": {},
   "outputs": [],
   "source": [
    "name= \"abhi\"  #here name is identifier"
   ]
  },
  {
   "cell_type": "code",
   "execution_count": 2,
   "id": "ea0bf25f",
   "metadata": {},
   "outputs": [
    {
     "name": "stdout",
     "output_type": "stream",
     "text": [
      "hi\n"
     ]
    },
    {
     "data": {
      "text/plain": [
       "'hi'"
      ]
     },
     "execution_count": 2,
     "metadata": {},
     "output_type": "execute_result"
    }
   ],
   "source": [
    "input()"
   ]
  },
  {
   "cell_type": "code",
   "execution_count": 3,
   "id": "1a848f1c",
   "metadata": {},
   "outputs": [
    {
     "name": "stdout",
     "output_type": "stream",
     "text": [
      "Enter name Abhishek\n"
     ]
    },
    {
     "data": {
      "text/plain": [
       "'Abhishek'"
      ]
     },
     "execution_count": 3,
     "metadata": {},
     "output_type": "execute_result"
    }
   ],
   "source": [
    "input(\"Enter name \")"
   ]
  },
  {
   "cell_type": "code",
   "execution_count": 9,
   "id": "b579e846",
   "metadata": {},
   "outputs": [
    {
     "name": "stdout",
     "output_type": "stream",
     "text": [
      "Enter first number4\n",
      "Enter second number7\n",
      "Result is =  47\n"
     ]
    }
   ],
   "source": [
    "a= input(\"Enter first number\")\n",
    "b= input(\"Enter second number\")\n",
    "c= a+b\n",
    "print('Result is = ',c)"
   ]
  },
  {
   "cell_type": "markdown",
   "id": "308bd085",
   "metadata": {},
   "source": [
    "#so as it is coming in string format it is performing concatnation"
   ]
  },
  {
   "cell_type": "code",
   "execution_count": 13,
   "id": "d20a956c",
   "metadata": {},
   "outputs": [
    {
     "data": {
      "text/plain": [
       "str"
      ]
     },
     "execution_count": 13,
     "metadata": {},
     "output_type": "execute_result"
    }
   ],
   "source": [
    "#type\n",
    "type(c)"
   ]
  },
  {
   "cell_type": "code",
   "execution_count": 14,
   "id": "409e7ca3",
   "metadata": {},
   "outputs": [],
   "source": [
    "#To overcome this we do TYPECONVERSION"
   ]
  },
  {
   "cell_type": "code",
   "execution_count": 17,
   "id": "bf752c80",
   "metadata": {},
   "outputs": [],
   "source": [
    "#implicit type conversion = Done by python\n",
    "#explicit type conversion "
   ]
  },
  {
   "cell_type": "code",
   "execution_count": 20,
   "id": "4b1cba77",
   "metadata": {},
   "outputs": [
    {
     "data": {
      "text/plain": [
       "9.5"
      ]
     },
     "execution_count": 20,
     "metadata": {},
     "output_type": "execute_result"
    }
   ],
   "source": [
    "#implicit\n",
    "4+5.5"
   ]
  },
  {
   "cell_type": "code",
   "execution_count": 21,
   "id": "b411abfb",
   "metadata": {},
   "outputs": [
    {
     "data": {
      "text/plain": [
       "(7+7j)"
      ]
     },
     "execution_count": 21,
     "metadata": {},
     "output_type": "execute_result"
    }
   ],
   "source": [
    "4+3+7j"
   ]
  },
  {
   "cell_type": "code",
   "execution_count": 5,
   "id": "ab50ad75",
   "metadata": {},
   "outputs": [
    {
     "data": {
      "text/plain": [
       "4"
      ]
     },
     "execution_count": 5,
     "metadata": {},
     "output_type": "execute_result"
    }
   ],
   "source": [
    "#explicit\n",
    "int('4')     #telling python what is the datatype "
   ]
  },
  {
   "cell_type": "code",
   "execution_count": 25,
   "id": "5aa9c803",
   "metadata": {},
   "outputs": [
    {
     "data": {
      "text/plain": [
       "('3', ',', '4', ',', '5', ',', '6', ',', '7')"
      ]
     },
     "execution_count": 25,
     "metadata": {},
     "output_type": "execute_result"
    }
   ],
   "source": [
    "tuple('3,4,5,6,7')"
   ]
  },
  {
   "cell_type": "code",
   "execution_count": 28,
   "id": "6b30c3b0",
   "metadata": {},
   "outputs": [],
   "source": [
    "a=5.56"
   ]
  },
  {
   "cell_type": "code",
   "execution_count": 29,
   "id": "8557ac50",
   "metadata": {},
   "outputs": [
    {
     "data": {
      "text/plain": [
       "5"
      ]
     },
     "execution_count": 29,
     "metadata": {},
     "output_type": "execute_result"
    }
   ],
   "source": [
    "int(a)"
   ]
  },
  {
   "cell_type": "code",
   "execution_count": 30,
   "id": "54fe91a7",
   "metadata": {},
   "outputs": [
    {
     "data": {
      "text/plain": [
       "5.56"
      ]
     },
     "execution_count": 30,
     "metadata": {},
     "output_type": "execute_result"
    }
   ],
   "source": [
    "a"
   ]
  },
  {
   "cell_type": "code",
   "execution_count": 31,
   "id": "6e9a030d",
   "metadata": {},
   "outputs": [],
   "source": [
    "#So typeconversion doesn't make changes in original value"
   ]
  },
  {
   "cell_type": "code",
   "execution_count": 34,
   "id": "00564029",
   "metadata": {},
   "outputs": [
    {
     "name": "stdout",
     "output_type": "stream",
     "text": [
      "Enter first number3\n",
      "Enter second number7\n",
      "Result is =  10\n"
     ]
    }
   ],
   "source": [
    "a= input(\"Enter first number\")\n",
    "b= input(\"Enter second number\")\n",
    "c= int(a)+int(b)\n",
    "print('Result is = ',c)"
   ]
  },
  {
   "cell_type": "code",
   "execution_count": 35,
   "id": "1bc09ff4",
   "metadata": {},
   "outputs": [
    {
     "name": "stdout",
     "output_type": "stream",
     "text": [
      "Enter first number45\n",
      "Enter second number22\n",
      "Result is =  67\n"
     ]
    }
   ],
   "source": [
    "#or better way is,\n",
    "a= int(input(\"Enter first number\"))\n",
    "b= int(input(\"Enter second number\"))\n",
    "c= a+b\n",
    "print('Result is = ',c)"
   ]
  },
  {
   "cell_type": "code",
   "execution_count": 24,
   "id": "c36ba1e6",
   "metadata": {},
   "outputs": [
    {
     "name": "stdout",
     "output_type": "stream",
     "text": [
      "Enter age = 32\n",
      "enter age2 = 44\n",
      "76\n"
     ]
    }
   ],
   "source": [
    "a = int(input('Enter age = '))\n",
    "b = int(input('enter age2 = '))\n",
    "print(a+b)"
   ]
  },
  {
   "cell_type": "markdown",
   "id": "0e13b072",
   "metadata": {},
   "source": [
    "#Literals\n",
    "\n",
    "Raw data given in a variable is called literals.They are of four types,\n",
    "Numeric,String,Boolean and Special"
   ]
  },
  {
   "cell_type": "markdown",
   "id": "07cfcd86",
   "metadata": {},
   "source": [
    "1. Numeric literals"
   ]
  },
  {
   "cell_type": "code",
   "execution_count": 5,
   "id": "1db9470b",
   "metadata": {},
   "outputs": [
    {
     "name": "stdout",
     "output_type": "stream",
     "text": [
      "10 100 208 300\n",
      "10.5 150.0 0.0015\n",
      "3.14j\n"
     ]
    }
   ],
   "source": [
    "a= 0b1010 #binary literals (0b=binary)\n",
    "b= 100 #decimal literals (normally used)\n",
    "c= 0o320 #Octal literals (0o = octal)\n",
    "d= 0x12c #hexadecimal literals (0x=hexa)\n",
    "\n",
    "#float literals\n",
    "flt_1 = 10.5\n",
    "flt_2 = 1.5e2 #e is \"10 to the power\"\n",
    "flt_3 = 1.5e-3 #e is \"10 to the power\"\n",
    "\n",
    "#complex literals\n",
    "x = 3.14j\n",
    "\n",
    "print(a,b,c,d)\n",
    "print(flt_1,flt_2,flt_3)\n",
    "print(x)"
   ]
  },
  {
   "cell_type": "markdown",
   "id": "513b0166",
   "metadata": {},
   "source": [
    "2. String Literals\n"
   ]
  },
  {
   "cell_type": "code",
   "execution_count": 6,
   "id": "49896fb9",
   "metadata": {},
   "outputs": [
    {
     "name": "stdout",
     "output_type": "stream",
     "text": [
      "This is jupyter\n",
      "This is jupyter\n",
      "This is multiline string with more than one line code\n",
      "😀😆\n",
      "raw \\n string\n"
     ]
    }
   ],
   "source": [
    "string = 'This is jupyter'\n",
    "string2 = \"This is jupyter\"\n",
    "multiline_str = \"\"\"This is multiline string with more than one line code\"\"\"\n",
    "unicode = u\"\\U0001F600\\U0001F606\"  #u in starting for unicode used in emojis,etc.\n",
    "raw_str = r\"raw \\n string\"  #r in starting for raw string where we can enter string containing special characters without any error\n",
    "\n",
    "print(string)\n",
    "print(string2)\n",
    "print(multiline_str)\n",
    "print(unicode)\n",
    "print(raw_str)"
   ]
  },
  {
   "cell_type": "markdown",
   "id": "52f052f5",
   "metadata": {},
   "source": [
    "3. Boolean literal"
   ]
  },
  {
   "cell_type": "code",
   "execution_count": 13,
   "id": "f4eaaf7e",
   "metadata": {},
   "outputs": [
    {
     "name": "stdout",
     "output_type": "stream",
     "text": [
      "a=  6\n",
      "b=  6\n"
     ]
    }
   ],
   "source": [
    "a = True+5\n",
    "b = False+6\n",
    "print(\"a= \", a)\n",
    "print(\"b= \", b)"
   ]
  },
  {
   "cell_type": "markdown",
   "id": "339c813c",
   "metadata": {},
   "source": [
    "#a is also 6 as python consider True=1 and False=0"
   ]
  },
  {
   "cell_type": "markdown",
   "id": "6aeaacf2",
   "metadata": {},
   "source": [
    "4. Special literal"
   ]
  },
  {
   "cell_type": "code",
   "execution_count": 1,
   "id": "a30f19d8",
   "metadata": {},
   "outputs": [
    {
     "name": "stdout",
     "output_type": "stream",
     "text": [
      "None\n"
     ]
    }
   ],
   "source": [
    "a= None    #None is special character in python\n",
    "print(a)"
   ]
  },
  {
   "cell_type": "markdown",
   "id": "d45d6dd7",
   "metadata": {},
   "source": [
    "#Used to give \"none\" value to variables so that we can be used later\n",
    "(kind of variable declaration)"
   ]
  }
 ],
 "metadata": {
  "kernelspec": {
   "display_name": "Python 3",
   "language": "python",
   "name": "python3"
  },
  "language_info": {
   "codemirror_mode": {
    "name": "ipython",
    "version": 3
   },
   "file_extension": ".py",
   "mimetype": "text/x-python",
   "name": "python",
   "nbconvert_exporter": "python",
   "pygments_lexer": "ipython3",
   "version": "3.8.8"
  }
 },
 "nbformat": 4,
 "nbformat_minor": 5
}
