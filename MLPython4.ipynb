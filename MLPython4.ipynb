{
 "cells": [
  {
   "cell_type": "markdown",
   "id": "c0d4fb30",
   "metadata": {},
   "source": [
    "# Python From Scratch\n",
    "\n",
    "Take reference from youtube video below and learn Python along with me..\n",
    "\n",
    "https://www.youtube.com/playlist?list=PLKnIA16_Rmvb1RYR-iTA_hzckhdONtSW4"
   ]
  },
  {
   "cell_type": "markdown",
   "id": "8b05281c",
   "metadata": {},
   "source": [
    "## If-else statement (Decision control statement)"
   ]
  },
  {
   "cell_type": "code",
   "execution_count": 6,
   "id": "08c08982",
   "metadata": {},
   "outputs": [
    {
     "name": "stdout",
     "output_type": "stream",
     "text": [
      "Enter Emailabhardwaj965@gmail.com\n",
      "Enter passworda1234\n",
      "Welcome\n"
     ]
    }
   ],
   "source": [
    "#correct email- abhardwaj965@gmail.com\n",
    "#correct password- a1234\n",
    "Email= input(\"Enter Email\")\n",
    "Password= input(\"Enter password\")\n",
    "\n",
    "if Email== \"abhardwaj965@gmail.com\" and Password== \"a1234\":\n",
    "    print(\"Welcome\")\n",
    "else:\n",
    "    print(\"Wrong credentials\")"
   ]
  },
  {
   "cell_type": "code",
   "execution_count": 20,
   "id": "1869e6a3",
   "metadata": {},
   "outputs": [
    {
     "name": "stdout",
     "output_type": "stream",
     "text": [
      "Enter email=aayush\n",
      "Enter right email\n"
     ]
    }
   ],
   "source": [
    "Email= input(\"Enter email=\")\n",
    "if '@' in Email:\n",
    "    Password= input(\"Enter password\")\n",
    "    if Email==\"abhardwaj965@gmail.com\" and Password==\"a1234\":\n",
    "        print(\"Welcome\")\n",
    "    elif Email==\"abhardwaj965@gmail.com\" and Password!=\"a1234\":\n",
    "        print(\"Password not correct,try again\")\n",
    "        Password= input(\"Enter password again=\")\n",
    "        if Password == \"a1234\":\n",
    "            print(\"Now correct\")\n",
    "        else: print(\"Still incorrect\")\n",
    "    elif Email!=\"abhardwaj965@gmail.com\" and Password==\"a1234\":\n",
    "        print(\"Email not correct \")\n",
    "        Email= input(\"Enter email again=\")\n",
    "        if Email== \"abhardwaj965@gmail.com\":\n",
    "            print(\"now correct\")\n",
    "        else: (\"Still incorrect\")\n",
    "    else:\n",
    "        print(\"Wrong credentials\")\n",
    "else: print(\"Enter right email\")"
   ]
  },
  {
   "cell_type": "markdown",
   "id": "462dae21",
   "metadata": {},
   "source": [
    "## #We can use shift+tab to get info about a function"
   ]
  },
  {
   "cell_type": "markdown",
   "id": "2cbcd3dd",
   "metadata": {},
   "source": [
    "# Indentation\n",
    "Indentation is the leading whitespace ( spaces and tabs ) before any statement in python. ... Python treats the statements that have the same indentation level (statements that have equal no of whitespaces before them) as a single block of code. You should use tab only for indentation."
   ]
  },
  {
   "cell_type": "code",
   "execution_count": 6,
   "id": "fa25f01a",
   "metadata": {},
   "outputs": [
    {
     "name": "stdout",
     "output_type": "stream",
     "text": [
      "Correct\n"
     ]
    }
   ],
   "source": [
    "name=\"aa\"\n",
    "if name== \"aa\":\n",
    "    print(\"Correct\") #this space is called indentation. We use \"tab\" button to measure the gap\n",
    "else:\n",
    "    print(\"Incorrect\")"
   ]
  },
  {
   "cell_type": "code",
   "execution_count": null,
   "id": "678d577e",
   "metadata": {},
   "outputs": [],
   "source": []
  }
 ],
 "metadata": {
  "kernelspec": {
   "display_name": "Python 3",
   "language": "python",
   "name": "python3"
  },
  "language_info": {
   "codemirror_mode": {
    "name": "ipython",
    "version": 3
   },
   "file_extension": ".py",
   "mimetype": "text/x-python",
   "name": "python",
   "nbconvert_exporter": "python",
   "pygments_lexer": "ipython3",
   "version": "3.8.8"
  }
 },
 "nbformat": 4,
 "nbformat_minor": 5
}
