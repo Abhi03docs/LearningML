{
 "cells": [
  {
   "cell_type": "markdown",
   "id": "c3400ce4",
   "metadata": {},
   "source": [
    "# Python From Scratch"
   ]
  },
  {
   "cell_type": "markdown",
   "id": "6d87d75d",
   "metadata": {},
   "source": [
    "Take reference from youtube video below and learn Python along with me..\n",
    "\n",
    "https://www.youtube.com/playlist?list=PLKnIA16_Rmvb1RYR-iTA_hzckhdONtSW4"
   ]
  },
  {
   "cell_type": "code",
   "execution_count": 1,
   "id": "02ed4f51",
   "metadata": {},
   "outputs": [
    {
     "name": "stdout",
     "output_type": "stream",
     "text": [
      "hello world\n"
     ]
    }
   ],
   "source": [
    "print(\"hello world\")   #For output"
   ]
  },
  {
   "cell_type": "code",
   "execution_count": 2,
   "id": "655ac14b",
   "metadata": {},
   "outputs": [
    {
     "name": "stdout",
     "output_type": "stream",
     "text": [
      "6\n"
     ]
    }
   ],
   "source": [
    "print(\"6\")"
   ]
  },
  {
   "cell_type": "code",
   "execution_count": 3,
   "id": "3d5d392a",
   "metadata": {},
   "outputs": [
    {
     "name": "stdout",
     "output_type": "stream",
     "text": [
      "6\n"
     ]
    }
   ],
   "source": [
    "print(6)"
   ]
  },
  {
   "cell_type": "code",
   "execution_count": 4,
   "id": "1af51f38",
   "metadata": {},
   "outputs": [
    {
     "name": "stdout",
     "output_type": "stream",
     "text": [
      "False\n"
     ]
    }
   ],
   "source": [
    "print(False)"
   ]
  },
  {
   "cell_type": "code",
   "execution_count": 5,
   "id": "956f5d7d",
   "metadata": {},
   "outputs": [
    {
     "name": "stdout",
     "output_type": "stream",
     "text": [
      "India Pak nepal Lanka\n"
     ]
    }
   ],
   "source": [
    "print('India',\"Pak\",\"nepal\",\"Lanka\")"
   ]
  },
  {
   "cell_type": "code",
   "execution_count": 6,
   "id": "cb067988",
   "metadata": {},
   "outputs": [
    {
     "name": "stdout",
     "output_type": "stream",
     "text": [
      "india 6\n"
     ]
    }
   ],
   "source": [
    "print('india',6)"
   ]
  },
  {
   "cell_type": "code",
   "execution_count": 7,
   "id": "78ec747b",
   "metadata": {},
   "outputs": [
    {
     "name": "stdout",
     "output_type": "stream",
     "text": [
      "India//Pak//nepal//Lanka\n"
     ]
    }
   ],
   "source": [
    "print('India',\"Pak\",\"nepal\",\"Lanka\",sep=\"//\")"
   ]
  },
  {
   "cell_type": "raw",
   "id": "625ba7aa",
   "metadata": {},
   "source": [
    "print(\"hello\")\n",
    "print(\"world\")"
   ]
  },
  {
   "cell_type": "code",
   "execution_count": 8,
   "id": "3993733e",
   "metadata": {},
   "outputs": [
    {
     "name": "stdout",
     "output_type": "stream",
     "text": [
      "hello   world\n"
     ]
    }
   ],
   "source": [
    "print(\"hello\",end='   ')\n",
    "print(\"world\") "
   ]
  },
  {
   "cell_type": "code",
   "execution_count": 9,
   "id": "f5e697a3",
   "metadata": {},
   "outputs": [],
   "source": [
    "#Python data types\n",
    "## *Basic types - (Integer,float,complex,boolean,and string)\n",
    "## *Container types - (List,Tuples,sets,and dictionary)\n",
    "## *User-defined types - Class"
   ]
  },
  {
   "cell_type": "code",
   "execution_count": 10,
   "id": "400e763c",
   "metadata": {},
   "outputs": [
    {
     "name": "stdout",
     "output_type": "stream",
     "text": [
      "5\n",
      "1e+308\n"
     ]
    }
   ],
   "source": [
    "#integer\n",
    "print(5)\n",
    "print(1e308)"
   ]
  },
  {
   "cell_type": "code",
   "execution_count": 11,
   "id": "fd0cb3a0",
   "metadata": {},
   "outputs": [
    {
     "name": "stdout",
     "output_type": "stream",
     "text": [
      "3.3\n",
      "2.4e+307\n"
     ]
    }
   ],
   "source": [
    "#float\n",
    "print(3.3)\n",
    "print(2.4e307)"
   ]
  },
  {
   "cell_type": "code",
   "execution_count": 12,
   "id": "1448c26d",
   "metadata": {},
   "outputs": [
    {
     "name": "stdout",
     "output_type": "stream",
     "text": [
      "True\n",
      "False\n"
     ]
    }
   ],
   "source": [
    "print(True)\n",
    "print(False)"
   ]
  },
  {
   "cell_type": "code",
   "execution_count": 13,
   "id": "f767c174",
   "metadata": {},
   "outputs": [
    {
     "name": "stdout",
     "output_type": "stream",
     "text": [
      "(4+5j)\n"
     ]
    }
   ],
   "source": [
    "#complex  --Rarely used\n",
    "print(4+5j)"
   ]
  },
  {
   "cell_type": "code",
   "execution_count": 14,
   "id": "76abb941",
   "metadata": {},
   "outputs": [
    {
     "name": "stdout",
     "output_type": "stream",
     "text": [
      "hey hello how are you\n"
     ]
    }
   ],
   "source": [
    "#string\n",
    "print('hey',\"hello\",\"\"\"how are you\"\"\")"
   ]
  },
  {
   "cell_type": "code",
   "execution_count": 15,
   "id": "336991b8",
   "metadata": {},
   "outputs": [
    {
     "name": "stdout",
     "output_type": "stream",
     "text": [
      "[1, 2, 3, 4, 5, 6]\n"
     ]
    }
   ],
   "source": [
    "#list\n",
    "print([1,2,3,4,5,6])"
   ]
  },
  {
   "cell_type": "code",
   "execution_count": 16,
   "id": "688ea20d",
   "metadata": {},
   "outputs": [
    {
     "name": "stdout",
     "output_type": "stream",
     "text": [
      "(1, 2, 3, 4, 5)\n"
     ]
    }
   ],
   "source": [
    "#tuple\n",
    "print((1,2,3,4,5))"
   ]
  },
  {
   "cell_type": "code",
   "execution_count": 17,
   "id": "6748ce2a",
   "metadata": {},
   "outputs": [
    {
     "name": "stdout",
     "output_type": "stream",
     "text": [
      "{1, 2, 3, 4, 5}\n"
     ]
    }
   ],
   "source": [
    "#sets\n",
    "print({1,2,3,4,5})"
   ]
  },
  {
   "cell_type": "code",
   "execution_count": 18,
   "id": "f1f379e6",
   "metadata": {},
   "outputs": [
    {
     "name": "stdout",
     "output_type": "stream",
     "text": [
      "{'Name': 'nitish', 'Age': 23, 'gender': 'Male'}\n"
     ]
    }
   ],
   "source": [
    "#dictionary\n",
    "print({\"Name\":\"nitish\",\"Age\":23,\"gender\":\"Male\"})"
   ]
  },
  {
   "cell_type": "code",
   "execution_count": 19,
   "id": "a13e9122",
   "metadata": {},
   "outputs": [],
   "source": [
    "#Variables"
   ]
  },
  {
   "cell_type": "code",
   "execution_count": 20,
   "id": "5db1b683",
   "metadata": {},
   "outputs": [],
   "source": [
    "name= 'Abhishek'"
   ]
  },
  {
   "cell_type": "code",
   "execution_count": 21,
   "id": "9df06bb9",
   "metadata": {},
   "outputs": [
    {
     "name": "stdout",
     "output_type": "stream",
     "text": [
      "Abhishek\n"
     ]
    }
   ],
   "source": [
    "print(name)"
   ]
  },
  {
   "cell_type": "code",
   "execution_count": 22,
   "id": "fe96fc97",
   "metadata": {},
   "outputs": [],
   "source": [
    "#no variable declaration"
   ]
  },
  {
   "cell_type": "code",
   "execution_count": 23,
   "id": "914229f5",
   "metadata": {},
   "outputs": [],
   "source": [
    "#Dynamic typing as we don't have to specify the data type"
   ]
  },
  {
   "cell_type": "code",
   "execution_count": 24,
   "id": "75be47dc",
   "metadata": {},
   "outputs": [],
   "source": [
    "name = 5"
   ]
  },
  {
   "cell_type": "code",
   "execution_count": 25,
   "id": "88b46b1b",
   "metadata": {},
   "outputs": [
    {
     "name": "stdout",
     "output_type": "stream",
     "text": [
      "5\n"
     ]
    }
   ],
   "source": [
    "print(name)"
   ]
  },
  {
   "cell_type": "code",
   "execution_count": 26,
   "id": "48cddd78",
   "metadata": {},
   "outputs": [],
   "source": [
    "#dynamic binding as a variable is not bound to store only one type of data type"
   ]
  },
  {
   "cell_type": "code",
   "execution_count": 27,
   "id": "c123c658",
   "metadata": {},
   "outputs": [],
   "source": [
    "#special syntax"
   ]
  },
  {
   "cell_type": "code",
   "execution_count": 28,
   "id": "bb91c4d0",
   "metadata": {},
   "outputs": [],
   "source": [
    "a=2;b=4;c=7"
   ]
  },
  {
   "cell_type": "code",
   "execution_count": 29,
   "id": "6d4ce999",
   "metadata": {},
   "outputs": [
    {
     "name": "stdout",
     "output_type": "stream",
     "text": [
      "2\n",
      "7\n",
      "4\n"
     ]
    }
   ],
   "source": [
    "print(a)\n",
    "print(c)\n",
    "print(b)"
   ]
  },
  {
   "cell_type": "code",
   "execution_count": 30,
   "id": "2a856b3c",
   "metadata": {},
   "outputs": [],
   "source": [
    "a,b,c= 2,7,1"
   ]
  },
  {
   "cell_type": "code",
   "execution_count": 31,
   "id": "6bc8cc48",
   "metadata": {},
   "outputs": [
    {
     "name": "stdout",
     "output_type": "stream",
     "text": [
      "2 7\n"
     ]
    }
   ],
   "source": [
    "print(a,b)"
   ]
  },
  {
   "cell_type": "code",
   "execution_count": 32,
   "id": "4abe0354",
   "metadata": {},
   "outputs": [],
   "source": [
    "a=b=5"
   ]
  },
  {
   "cell_type": "code",
   "execution_count": 33,
   "id": "563b5c07",
   "metadata": {},
   "outputs": [
    {
     "name": "stdout",
     "output_type": "stream",
     "text": [
      "5\n"
     ]
    }
   ],
   "source": [
    "print(b)"
   ]
  }
 ],
 "metadata": {
  "kernelspec": {
   "display_name": "Python 3",
   "language": "python",
   "name": "python3"
  },
  "language_info": {
   "codemirror_mode": {
    "name": "ipython",
    "version": 3
   },
   "file_extension": ".py",
   "mimetype": "text/x-python",
   "name": "python",
   "nbconvert_exporter": "python",
   "pygments_lexer": "ipython3",
   "version": "3.8.8"
  }
 },
 "nbformat": 4,
 "nbformat_minor": 5
}
