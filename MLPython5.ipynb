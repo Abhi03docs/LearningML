{
 "cells": [
  {
   "cell_type": "markdown",
   "id": "c0d4fb30",
   "metadata": {},
   "source": [
    "# Python From Scratch\n",
    "\n",
    "Take reference from youtube video below and learn Python along with me..\n",
    "\n",
    "https://www.youtube.com/playlist?list=PLKnIA16_Rmvb1RYR-iTA_hzckhdONtSW4"
   ]
  },
  {
   "cell_type": "markdown",
   "id": "55e2704f",
   "metadata": {},
   "source": [
    "# Loops\n",
    "If we have to do some work repeatedly, we put that code in loop"
   ]
  },
  {
   "cell_type": "code",
   "execution_count": 1,
   "id": "d6df9a32",
   "metadata": {},
   "outputs": [],
   "source": [
    "#python have 2 loops,\n",
    "#while\n",
    "#for"
   ]
  },
  {
   "cell_type": "markdown",
   "id": "67d136af",
   "metadata": {},
   "source": [
    "# while loop"
   ]
  },
  {
   "cell_type": "code",
   "execution_count": null,
   "id": "d51e5de8",
   "metadata": {},
   "outputs": [],
   "source": [
    "syntax= \n",
    "\n",
    "while condition:\n",
    "    code"
   ]
  },
  {
   "cell_type": "code",
   "execution_count": 4,
   "id": "7f2627df",
   "metadata": {},
   "outputs": [
    {
     "name": "stdout",
     "output_type": "stream",
     "text": [
      "Enter the number:4\n",
      "4 * 1 = 4\n",
      "4 * 2 = 8\n",
      "4 * 3 = 12\n",
      "4 * 4 = 16\n",
      "4 * 5 = 20\n",
      "4 * 6 = 24\n",
      "4 * 7 = 28\n",
      "4 * 8 = 32\n",
      "4 * 9 = 36\n",
      "4 * 10 = 40\n"
     ]
    }
   ],
   "source": [
    "number= int(input(\"Enter the number:\"))\n",
    "i = 1\n",
    "while i<11:\n",
    "    print(number,\"*\",i,\"=\",number*i)\n",
    "    i+=1    #i=i+1"
   ]
  },
  {
   "cell_type": "markdown",
   "id": "e409dc0b",
   "metadata": {},
   "source": [
    "## #To generate random numbers\n",
    "We use random module "
   ]
  },
  {
   "cell_type": "code",
   "execution_count": 2,
   "id": "36bdde86",
   "metadata": {},
   "outputs": [],
   "source": [
    "import random"
   ]
  },
  {
   "cell_type": "code",
   "execution_count": 3,
   "id": "1f6b6596",
   "metadata": {},
   "outputs": [
    {
     "data": {
      "text/plain": [
       "53"
      ]
     },
     "execution_count": 3,
     "metadata": {},
     "output_type": "execute_result"
    }
   ],
   "source": [
    "random.randint(1,100)"
   ]
  },
  {
   "cell_type": "markdown",
   "id": "15b4287a",
   "metadata": {},
   "source": [
    "# Guessing game"
   ]
  },
  {
   "cell_type": "code",
   "execution_count": 4,
   "id": "973907e1",
   "metadata": {},
   "outputs": [
    {
     "name": "stdout",
     "output_type": "stream",
     "text": [
      "Enter the number you guessed34\n",
      "guess higher\n",
      "Enter the number you guessed56\n",
      "guess higher\n",
      "Enter the number you guessed88\n",
      "Guess lower\n",
      "Enter the number you guessed76\n",
      "Guess lower\n",
      "Enter the number you guessed66\n",
      "guess higher\n",
      "Enter the number you guessed69\n",
      "guess higher\n",
      "Enter the number you guessed71\n",
      "guess higher\n",
      "Enter the number you guessed73\n",
      "guess higher\n",
      "Enter the number you guessed75\n",
      "Correct answer\n",
      "9 attempts\n"
     ]
    }
   ],
   "source": [
    "jackpot= random.randint(1,100)\n",
    "guess=int(input(\"Enter the number you guessed\"))\n",
    "counter = 1\n",
    "while guess!=jackpot:\n",
    "    \n",
    "    if guess<jackpot:\n",
    "        print(\"guess higher\")\n",
    "    else:\n",
    "        print(\"Guess lower\")\n",
    "    guess=int(input(\"Enter the number you guessed\"))\n",
    "    counter+=1\n",
    "print(\"Correct answer\")\n",
    "print(counter,\"attempts\")\n"
   ]
  },
  {
   "cell_type": "markdown",
   "id": "d36be295",
   "metadata": {},
   "source": [
    "# For loop\n",
    "\n",
    "### #Range function - To generate integers in a given range"
   ]
  },
  {
   "cell_type": "code",
   "execution_count": 14,
   "id": "59425fd2",
   "metadata": {},
   "outputs": [
    {
     "data": {
      "text/plain": [
       "[1, 2, 3, 4, 5, 6, 7, 8, 9, 10]"
      ]
     },
     "execution_count": 14,
     "metadata": {},
     "output_type": "execute_result"
    }
   ],
   "source": [
    "#range function\n",
    "list(range(1,11))"
   ]
  },
  {
   "cell_type": "code",
   "execution_count": 20,
   "id": "c183c1b9",
   "metadata": {},
   "outputs": [
    {
     "data": {
      "text/plain": [
       "(0, 1, 2, 3, 4, 5)"
      ]
     },
     "execution_count": 20,
     "metadata": {},
     "output_type": "execute_result"
    }
   ],
   "source": [
    "tuple(range(6))"
   ]
  },
  {
   "cell_type": "code",
   "execution_count": 17,
   "id": "e45e51f6",
   "metadata": {},
   "outputs": [
    {
     "data": {
      "text/plain": [
       "[1, 5, 9, 13, 17]"
      ]
     },
     "execution_count": 17,
     "metadata": {},
     "output_type": "execute_result"
    }
   ],
   "source": [
    "list(range(1,21,4))  #4 is the number of step(gap) "
   ]
  },
  {
   "cell_type": "code",
   "execution_count": 21,
   "id": "fda9e586",
   "metadata": {},
   "outputs": [
    {
     "data": {
      "text/plain": [
       "(10, 8, 6, 4, 2)"
      ]
     },
     "execution_count": 21,
     "metadata": {},
     "output_type": "execute_result"
    }
   ],
   "source": [
    "tuple(range(10,0,-2))  #negative numbers"
   ]
  },
  {
   "cell_type": "markdown",
   "id": "051d57f6",
   "metadata": {},
   "source": [
    "### #Sequence- Anything in order is called sequence"
   ]
  },
  {
   "cell_type": "code",
   "execution_count": 23,
   "id": "4b863296",
   "metadata": {},
   "outputs": [
    {
     "data": {
      "text/plain": [
       "['kolkata', 'Delhi']"
      ]
     },
     "execution_count": 23,
     "metadata": {},
     "output_type": "execute_result"
    }
   ],
   "source": [
    "#for example,\n",
    "\"Delhi\" #strings are also sequence\n",
    "[\"kolkata\",\"Delhi\"]   #lists are also sequence"
   ]
  },
  {
   "cell_type": "code",
   "execution_count": 24,
   "id": "60c41af6",
   "metadata": {},
   "outputs": [
    {
     "data": {
      "text/plain": [
       "('mumbai', 'delhi', 'kolkata')"
      ]
     },
     "execution_count": 24,
     "metadata": {},
     "output_type": "execute_result"
    }
   ],
   "source": [
    "(\"mumbai\",\"delhi\",\"kolkata\") #tuples are also sequence\n"
   ]
  },
  {
   "cell_type": "code",
   "execution_count": 29,
   "id": "0d655efb",
   "metadata": {},
   "outputs": [
    {
     "data": {
      "text/plain": [
       "{'Punjab', 'delhi', 'mumbai'}"
      ]
     },
     "execution_count": 29,
     "metadata": {},
     "output_type": "execute_result"
    }
   ],
   "source": [
    "{\"mumbai\",\"delhi\",\"Punjab\"} #sets are also sequence\n",
    "#and dictionaries are also sequence"
   ]
  },
  {
   "cell_type": "markdown",
   "id": "45672292",
   "metadata": {},
   "source": [
    "## For loop either iterate on range or on sequence"
   ]
  },
  {
   "cell_type": "code",
   "execution_count": 25,
   "id": "d752dfdd",
   "metadata": {},
   "outputs": [
    {
     "name": "stdout",
     "output_type": "stream",
     "text": [
      "1\n",
      "2\n",
      "3\n",
      "4\n",
      "5\n",
      "6\n",
      "7\n",
      "8\n",
      "9\n",
      "10\n"
     ]
    }
   ],
   "source": [
    "for i in range(1,11):\n",
    "    print(i)"
   ]
  },
  {
   "cell_type": "code",
   "execution_count": 26,
   "id": "3fce5803",
   "metadata": {},
   "outputs": [
    {
     "name": "stdout",
     "output_type": "stream",
     "text": [
      "1\n",
      "3\n",
      "5\n",
      "7\n",
      "9\n"
     ]
    }
   ],
   "source": [
    "for i in range(1,10,2):\n",
    "    print(i)"
   ]
  },
  {
   "cell_type": "code",
   "execution_count": 27,
   "id": "188c2046",
   "metadata": {},
   "outputs": [
    {
     "name": "stdout",
     "output_type": "stream",
     "text": [
      "k\n",
      "o\n",
      "l\n",
      "k\n",
      "a\n",
      "t\n",
      "a\n"
     ]
    }
   ],
   "source": [
    "for i in \"kolkata\":\n",
    "    print(i)"
   ]
  },
  {
   "cell_type": "code",
   "execution_count": 28,
   "id": "f39deb69",
   "metadata": {},
   "outputs": [
    {
     "name": "stdout",
     "output_type": "stream",
     "text": [
      "1\n",
      "2\n",
      "3\n",
      "4\n",
      "6\n"
     ]
    }
   ],
   "source": [
    "for i in [1,2,3,4,6,]:\n",
    "    print(i)"
   ]
  },
  {
   "cell_type": "code",
   "execution_count": 30,
   "id": "eb7e3b5d",
   "metadata": {},
   "outputs": [
    {
     "name": "stdout",
     "output_type": "stream",
     "text": [
      "1\n",
      "2\n",
      "3\n",
      "5\n",
      "6\n",
      "7\n"
     ]
    }
   ],
   "source": [
    "for i in {1,2,3,5,6,7}:\n",
    "    print(i)"
   ]
  },
  {
   "cell_type": "markdown",
   "id": "3c35d6cb",
   "metadata": {},
   "source": [
    "# We have studied two loops while and for.\n",
    "## *The question comes that which loop should we use in which condition?"
   ]
  },
  {
   "cell_type": "markdown",
   "id": "56b946fb",
   "metadata": {},
   "source": [
    "# =>If we know the number of times a loop will execute, we should use for loop, and we if don't know the number of times the loop will execute we should use while loop"
   ]
  },
  {
   "cell_type": "markdown",
   "id": "8b05281c",
   "metadata": {},
   "source": [
    "## If-else statement (Decision control statement)"
   ]
  },
  {
   "cell_type": "code",
   "execution_count": 6,
   "id": "08c08982",
   "metadata": {},
   "outputs": [
    {
     "name": "stdout",
     "output_type": "stream",
     "text": [
      "Enter Emailabhardwaj965@gmail.com\n",
      "Enter passworda1234\n",
      "Welcome\n"
     ]
    }
   ],
   "source": [
    "#correct email- abhardwaj965@gmail.com\n",
    "#correct password- a1234\n",
    "Email= input(\"Enter Email\")\n",
    "Password= input(\"Enter password\")\n",
    "\n",
    "if Email== \"abhardwaj965@gmail.com\" and Password== \"a1234\":\n",
    "    print(\"Welcome\")\n",
    "else:\n",
    "    print(\"Wrong credentials\")"
   ]
  },
  {
   "cell_type": "code",
   "execution_count": 20,
   "id": "1869e6a3",
   "metadata": {},
   "outputs": [
    {
     "name": "stdout",
     "output_type": "stream",
     "text": [
      "Enter email=aayush\n",
      "Enter right email\n"
     ]
    }
   ],
   "source": [
    "Email= input(\"Enter email=\")\n",
    "if '@' in Email:\n",
    "    Password= input(\"Enter password\")\n",
    "    if Email==\"abhardwaj965@gmail.com\" and Password==\"a1234\":\n",
    "        print(\"Welcome\")\n",
    "    elif Email==\"abhardwaj965@gmail.com\" and Password!=\"a1234\":\n",
    "        print(\"Password not correct,try again\")\n",
    "        Password= input(\"Enter password again=\")\n",
    "        if Password == \"a1234\":\n",
    "            print(\"Now correct\")\n",
    "        else: print(\"Still incorrect\")\n",
    "    elif Email!=\"abhardwaj965@gmail.com\" and Password==\"a1234\":\n",
    "        print(\"Email not correct \")\n",
    "        Email= input(\"Enter email again=\")\n",
    "        if Email== \"abhardwaj965@gmail.com\":\n",
    "            print(\"now correct\")\n",
    "        else: (\"Still incorrect\")\n",
    "    else:\n",
    "        print(\"Wrong credentials\")\n",
    "else: print(\"Enter right email\")"
   ]
  },
  {
   "cell_type": "markdown",
   "id": "462dae21",
   "metadata": {},
   "source": [
    "## #We can use shift+tab to get info about a function"
   ]
  },
  {
   "cell_type": "markdown",
   "id": "2cbcd3dd",
   "metadata": {},
   "source": [
    "# Indentation\n",
    "Indentation is the leading whitespace ( spaces and tabs ) before any statement in python. ... Python treats the statements that have the same indentation level (statements that have equal no of whitespaces before them) as a single block of code. You should use tab only for indentation."
   ]
  },
  {
   "cell_type": "code",
   "execution_count": 6,
   "id": "fa25f01a",
   "metadata": {},
   "outputs": [
    {
     "name": "stdout",
     "output_type": "stream",
     "text": [
      "Correct\n"
     ]
    }
   ],
   "source": [
    "name=\"aa\"\n",
    "if name== \"aa\":\n",
    "    print(\"Correct\") #this space is called indentation. We use \"tab\" button to measure the gap\n",
    "else:\n",
    "    print(\"Incorrect\")"
   ]
  },
  {
   "cell_type": "code",
   "execution_count": null,
   "id": "678d577e",
   "metadata": {},
   "outputs": [],
   "source": []
  }
 ],
 "metadata": {
  "kernelspec": {
   "display_name": "Python 3",
   "language": "python",
   "name": "python3"
  },
  "language_info": {
   "codemirror_mode": {
    "name": "ipython",
    "version": 3
   },
   "file_extension": ".py",
   "mimetype": "text/x-python",
   "name": "python",
   "nbconvert_exporter": "python",
   "pygments_lexer": "ipython3",
   "version": "3.8.8"
  }
 },
 "nbformat": 4,
 "nbformat_minor": 5
}
