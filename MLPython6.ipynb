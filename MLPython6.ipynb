{
 "cells": [
  {
   "cell_type": "markdown",
   "id": "c0d4fb30",
   "metadata": {},
   "source": [
    "# Python From Scratch\n",
    "\n",
    "Take reference from youtube video below and learn Python along with me..\n",
    "\n",
    "https://www.youtube.com/playlist?list=PLKnIA16_Rmvb1RYR-iTA_hzckhdONtSW4"
   ]
  },
  {
   "cell_type": "markdown",
   "id": "a1b06d9e",
   "metadata": {},
   "source": [
    "# Break-Continue-Pass statements"
   ]
  },
  {
   "cell_type": "markdown",
   "id": "88159327",
   "metadata": {},
   "source": [
    "### Break is used to terminate loop at a specific condition\n",
    "Used in linear searching"
   ]
  },
  {
   "cell_type": "code",
   "execution_count": 7,
   "id": "68697a20",
   "metadata": {},
   "outputs": [
    {
     "name": "stdout",
     "output_type": "stream",
     "text": [
      "1\n",
      "2\n",
      "3\n",
      "4\n"
     ]
    }
   ],
   "source": [
    "for i in range(1,11):\n",
    "    if i== 5:\n",
    "        break\n",
    "    print(i)\n",
    "        "
   ]
  },
  {
   "cell_type": "markdown",
   "id": "78a3556e",
   "metadata": {},
   "source": [
    "## Continue\n",
    "If the condition meets, It will skip the code after it."
   ]
  },
  {
   "cell_type": "code",
   "execution_count": 8,
   "id": "f9c9ff57",
   "metadata": {},
   "outputs": [
    {
     "name": "stdout",
     "output_type": "stream",
     "text": [
      "1\n",
      "2\n",
      "3\n",
      "4\n",
      "6\n",
      "7\n",
      "8\n",
      "9\n",
      "10\n"
     ]
    }
   ],
   "source": [
    "for i in range(1,11):\n",
    "    if i==5:\n",
    "        continue\n",
    "    print(i)\n",
    "        "
   ]
  },
  {
   "cell_type": "code",
   "execution_count": 10,
   "id": "cf391c19",
   "metadata": {},
   "outputs": [
    {
     "name": "stdout",
     "output_type": "stream",
     "text": [
      "1\n",
      "Hello\n",
      "2\n",
      "Hello\n",
      "3\n",
      "Hello\n",
      "4\n",
      "Hello\n",
      "5\n",
      "Hello\n",
      "6 is skipped here\n",
      "7\n",
      "Hello\n",
      "8\n",
      "Hello\n",
      "9\n",
      "Hello\n",
      "10\n",
      "Hello\n"
     ]
    }
   ],
   "source": [
    "for i in range(1,11):\n",
    "    if i == 6:\n",
    "        print(\"6 is skipped here\")\n",
    "        continue\n",
    "    print(i)\n",
    "    print(\"Hello\")"
   ]
  },
  {
   "cell_type": "markdown",
   "id": "13732c29",
   "metadata": {},
   "source": [
    "## Pass\n",
    "If you're unsure about the code you want to write you can use Pass statement there.\n",
    "\n",
    "It won't show any error"
   ]
  },
  {
   "cell_type": "code",
   "execution_count": 12,
   "id": "0ae1ac47",
   "metadata": {},
   "outputs": [],
   "source": [
    "for i in range(1,11):\n",
    "    pass"
   ]
  }
 ],
 "metadata": {
  "kernelspec": {
   "display_name": "Python 3",
   "language": "python",
   "name": "python3"
  },
  "language_info": {
   "codemirror_mode": {
    "name": "ipython",
    "version": 3
   },
   "file_extension": ".py",
   "mimetype": "text/x-python",
   "name": "python",
   "nbconvert_exporter": "python",
   "pygments_lexer": "ipython3",
   "version": "3.8.8"
  }
 },
 "nbformat": 4,
 "nbformat_minor": 5
}
