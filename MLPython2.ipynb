{
 "cells": [
  {
   "cell_type": "markdown",
   "id": "0fe4e274",
   "metadata": {},
   "source": [
    "# Python From Scratch-2"
   ]
  },
  {
   "cell_type": "markdown",
   "id": "a575364c",
   "metadata": {},
   "source": [
    "Take reference from youtube video below and learn Python along with me..\n",
    "\n",
    "https://www.youtube.com/playlist?list=PLKnIA16_Rmvb1RYR-iTA_hzckhdONtSW4"
   ]
  },
  {
   "cell_type": "code",
   "execution_count": 63,
   "id": "0db7c8c2",
   "metadata": {},
   "outputs": [],
   "source": [
    "#Keywords\n",
    "#Words reserved by a program as it have a special meaning.\n",
    "#note - Python is a case sensitive language"
   ]
  },
  {
   "cell_type": "code",
   "execution_count": 64,
   "id": "f2e40d93",
   "metadata": {},
   "outputs": [
    {
     "name": "stdout",
     "output_type": "stream",
     "text": [
      "['False', 'None', 'True', 'and', 'as', 'assert', 'async', 'await', 'break', 'class', 'continue', 'def', 'del', 'elif', 'else', 'except', 'finally', 'for', 'from', 'global', 'if', 'import', 'in', 'is', 'lambda', 'nonlocal', 'not', 'or', 'pass', 'raise', 'return', 'try', 'while', 'with', 'yield']\n"
     ]
    }
   ],
   "source": [
    "import keyword\n",
    "print(keyword.kwlist)"
   ]
  },
  {
   "cell_type": "code",
   "execution_count": 65,
   "id": "1ec12b2d",
   "metadata": {},
   "outputs": [],
   "source": [
    "#we can't use keywords as variables"
   ]
  },
  {
   "cell_type": "code",
   "execution_count": 66,
   "id": "09b513c0",
   "metadata": {},
   "outputs": [],
   "source": [
    "#Identifiers\n",
    "#Name used to identify a variable,function,class,module or other obj."
   ]
  },
  {
   "cell_type": "code",
   "execution_count": 1,
   "id": "38a8d647",
   "metadata": {},
   "outputs": [],
   "source": [
    "name= \"abhi\"  #here name is identifier"
   ]
  },
  {
   "cell_type": "code",
   "execution_count": 2,
   "id": "ea0bf25f",
   "metadata": {},
   "outputs": [
    {
     "name": "stdout",
     "output_type": "stream",
     "text": [
      "hi\n"
     ]
    },
    {
     "data": {
      "text/plain": [
       "'hi'"
      ]
     },
     "execution_count": 2,
     "metadata": {},
     "output_type": "execute_result"
    }
   ],
   "source": [
    "input()"
   ]
  },
  {
   "cell_type": "code",
   "execution_count": 3,
   "id": "1a848f1c",
   "metadata": {},
   "outputs": [
    {
     "name": "stdout",
     "output_type": "stream",
     "text": [
      "Enter name Abhishek\n"
     ]
    },
    {
     "data": {
      "text/plain": [
       "'Abhishek'"
      ]
     },
     "execution_count": 3,
     "metadata": {},
     "output_type": "execute_result"
    }
   ],
   "source": [
    "input(\"Enter name \")"
   ]
  },
  {
   "cell_type": "code",
   "execution_count": 9,
   "id": "b579e846",
   "metadata": {},
   "outputs": [
    {
     "name": "stdout",
     "output_type": "stream",
     "text": [
      "Enter first number4\n",
      "Enter second number7\n",
      "Result is =  47\n"
     ]
    }
   ],
   "source": [
    "a= input(\"Enter first number\")\n",
    "b= input(\"Enter second number\")\n",
    "c= a+b\n",
    "print('Result is = ',c)"
   ]
  },
  {
   "cell_type": "markdown",
   "id": "308bd085",
   "metadata": {},
   "source": [
    "#so as it is coming in string format it is performing concatnation"
   ]
  },
  {
   "cell_type": "code",
   "execution_count": 13,
   "id": "d20a956c",
   "metadata": {},
   "outputs": [
    {
     "data": {
      "text/plain": [
       "str"
      ]
     },
     "execution_count": 13,
     "metadata": {},
     "output_type": "execute_result"
    }
   ],
   "source": [
    "#type\n",
    "type(c)"
   ]
  },
  {
   "cell_type": "code",
   "execution_count": 14,
   "id": "409e7ca3",
   "metadata": {},
   "outputs": [],
   "source": [
    "#To overcome this we do TYPECONVERSION"
   ]
  },
  {
   "cell_type": "code",
   "execution_count": 17,
   "id": "bf752c80",
   "metadata": {},
   "outputs": [],
   "source": [
    "#implicit type conversion = Done by python\n",
    "#explicit type conversion "
   ]
  },
  {
   "cell_type": "code",
   "execution_count": 20,
   "id": "4b1cba77",
   "metadata": {},
   "outputs": [
    {
     "data": {
      "text/plain": [
       "9.5"
      ]
     },
     "execution_count": 20,
     "metadata": {},
     "output_type": "execute_result"
    }
   ],
   "source": [
    "#implicit\n",
    "4+5.5"
   ]
  },
  {
   "cell_type": "code",
   "execution_count": 21,
   "id": "b411abfb",
   "metadata": {},
   "outputs": [
    {
     "data": {
      "text/plain": [
       "(7+7j)"
      ]
     },
     "execution_count": 21,
     "metadata": {},
     "output_type": "execute_result"
    }
   ],
   "source": [
    "4+3+7j"
   ]
  },
  {
   "cell_type": "code",
   "execution_count": 5,
   "id": "ab50ad75",
   "metadata": {},
   "outputs": [
    {
     "data": {
      "text/plain": [
       "4"
      ]
     },
     "execution_count": 5,
     "metadata": {},
     "output_type": "execute_result"
    }
   ],
   "source": [
    "#explicit\n",
    "int('4')     #telling python what is the datatype "
   ]
  },
  {
   "cell_type": "code",
   "execution_count": 25,
   "id": "5aa9c803",
   "metadata": {},
   "outputs": [
    {
     "data": {
      "text/plain": [
       "('3', ',', '4', ',', '5', ',', '6', ',', '7')"
      ]
     },
     "execution_count": 25,
     "metadata": {},
     "output_type": "execute_result"
    }
   ],
   "source": [
    "tuple('3,4,5,6,7')"
   ]
  },
  {
   "cell_type": "code",
   "execution_count": 28,
   "id": "6b30c3b0",
   "metadata": {},
   "outputs": [],
   "source": [
    "a=5.56"
   ]
  },
  {
   "cell_type": "code",
   "execution_count": 29,
   "id": "8557ac50",
   "metadata": {},
   "outputs": [
    {
     "data": {
      "text/plain": [
       "5"
      ]
     },
     "execution_count": 29,
     "metadata": {},
     "output_type": "execute_result"
    }
   ],
   "source": [
    "int(a)"
   ]
  },
  {
   "cell_type": "code",
   "execution_count": 30,
   "id": "54fe91a7",
   "metadata": {},
   "outputs": [
    {
     "data": {
      "text/plain": [
       "5.56"
      ]
     },
     "execution_count": 30,
     "metadata": {},
     "output_type": "execute_result"
    }
   ],
   "source": [
    "a"
   ]
  },
  {
   "cell_type": "code",
   "execution_count": 31,
   "id": "6e9a030d",
   "metadata": {},
   "outputs": [],
   "source": [
    "#So typeconversion doesn't make changes in original value"
   ]
  },
  {
   "cell_type": "code",
   "execution_count": 34,
   "id": "00564029",
   "metadata": {},
   "outputs": [
    {
     "name": "stdout",
     "output_type": "stream",
     "text": [
      "Enter first number3\n",
      "Enter second number7\n",
      "Result is =  10\n"
     ]
    }
   ],
   "source": [
    "a= input(\"Enter first number\")\n",
    "b= input(\"Enter second number\")\n",
    "c= int(a)+int(b)\n",
    "print('Result is = ',c)"
   ]
  },
  {
   "cell_type": "code",
   "execution_count": 35,
   "id": "1bc09ff4",
   "metadata": {},
   "outputs": [
    {
     "name": "stdout",
     "output_type": "stream",
     "text": [
      "Enter first number45\n",
      "Enter second number22\n",
      "Result is =  67\n"
     ]
    }
   ],
   "source": [
    "#or better way is,\n",
    "a= int(input(\"Enter first number\"))\n",
    "b= int(input(\"Enter second number\"))\n",
    "c= a+b\n",
    "print('Result is = ',c)"
   ]
  },
  {
   "cell_type": "code",
   "execution_count": 24,
   "id": "c36ba1e6",
   "metadata": {},
   "outputs": [
    {
     "name": "stdout",
     "output_type": "stream",
     "text": [
      "Enter age = 32\n",
      "enter age2 = 44\n",
      "76\n"
     ]
    }
   ],
   "source": [
    "a = int(input('Enter age = '))\n",
    "b = int(input('enter age2 = '))\n",
    "print(a+b)"
   ]
  },
  {
   "cell_type": "markdown",
   "id": "0e13b072",
   "metadata": {},
   "source": [
    "#Literals\n",
    "\n",
    "Raw data given in a variable is called literals.They are of four types,\n",
    "Numeric,String,Boolean and Special"
   ]
  },
  {
   "cell_type": "markdown",
   "id": "07cfcd86",
   "metadata": {},
   "source": [
    "1. Numeric literals"
   ]
  },
  {
   "cell_type": "code",
   "execution_count": 5,
   "id": "1db9470b",
   "metadata": {},
   "outputs": [
    {
     "name": "stdout",
     "output_type": "stream",
     "text": [
      "10 100 208 300\n",
      "10.5 150.0 0.0015\n",
      "3.14j\n"
     ]
    }
   ],
   "source": [
    "a= 0b1010 #binary literals (0b=binary)\n",
    "b= 100 #decimal literals (normally used)\n",
    "c= 0o320 #Octal literals (0o = octal)\n",
    "d= 0x12c #hexadecimal literals (0x=hexa)\n",
    "\n",
    "#float literals\n",
    "flt_1 = 10.5\n",
    "flt_2 = 1.5e2 #e is \"10 to the power\"\n",
    "flt_3 = 1.5e-3 #e is \"10 to the power\"\n",
    "\n",
    "#complex literals\n",
    "x = 3.14j\n",
    "\n",
    "print(a,b,c,d)\n",
    "print(flt_1,flt_2,flt_3)\n",
    "print(x)"
   ]
  },
  {
   "cell_type": "markdown",
   "id": "513b0166",
   "metadata": {},
   "source": [
    "2. String Literals\n"
   ]
  },
  {
   "cell_type": "code",
   "execution_count": 6,
   "id": "49896fb9",
   "metadata": {},
   "outputs": [
    {
     "name": "stdout",
     "output_type": "stream",
     "text": [
      "This is jupyter\n",
      "This is jupyter\n",
      "This is multiline string with more than one line code\n",
      "😀😆\n",
      "raw \\n string\n"
     ]
    }
   ],
   "source": [
    "string = 'This is jupyter'\n",
    "string2 = \"This is jupyter\"\n",
    "multiline_str = \"\"\"This is multiline string with more than one line code\"\"\"\n",
    "unicode = u\"\\U0001F600\\U0001F606\"  #u in starting for unicode used in emojis,etc.\n",
    "raw_str = r\"raw \\n string\"  #r in starting for raw string where we can enter string containing special characters without any error\n",
    "\n",
    "print(string)\n",
    "print(string2)\n",
    "print(multiline_str)\n",
    "print(unicode)\n",
    "print(raw_str)"
   ]
  },
  {
   "cell_type": "markdown",
   "id": "52f052f5",
   "metadata": {},
   "source": [
    "3. Boolean literal"
   ]
  },
  {
   "cell_type": "code",
   "execution_count": 13,
   "id": "f4eaaf7e",
   "metadata": {},
   "outputs": [
    {
     "name": "stdout",
     "output_type": "stream",
     "text": [
      "a=  6\n",
      "b=  6\n"
     ]
    }
   ],
   "source": [
    "a = True+5\n",
    "b = False+6\n",
    "print(\"a= \", a)\n",
    "print(\"b= \", b)"
   ]
  },
  {
   "cell_type": "markdown",
   "id": "339c813c",
   "metadata": {},
   "source": [
    "#a is also 6 as python consider True=1 and False=0"
   ]
  },
  {
   "cell_type": "markdown",
   "id": "6aeaacf2",
   "metadata": {},
   "source": [
    "4. Special literal"
   ]
  },
  {
   "cell_type": "code",
   "execution_count": 1,
   "id": "a30f19d8",
   "metadata": {},
   "outputs": [
    {
     "name": "stdout",
     "output_type": "stream",
     "text": [
      "None\n"
     ]
    }
   ],
   "source": [
    "a= None    #None is special character in python\n",
    "print(a)"
   ]
  },
  {
   "cell_type": "markdown",
   "id": "d45d6dd7",
   "metadata": {},
   "source": [
    "#Used to give \"none\" value to variables so that we can be used later\n",
    "(kind of variable declaration)"
   ]
  }
 ],
 "metadata": {
  "kernelspec": {
   "display_name": "Python 3",
   "language": "python",
   "name": "python3"
  },
  "language_info": {
   "codemirror_mode": {
    "name": "ipython",
    "version": 3
   },
   "file_extension": ".py",
   "mimetype": "text/x-python",
   "name": "python",
   "nbconvert_exporter": "python",
   "pygments_lexer": "ipython3",
   "version": "3.8.8"
  }
 },
 "nbformat": 4,
 "nbformat_minor": 5
}
